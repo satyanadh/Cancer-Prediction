{
  "nbformat": 4,
  "nbformat_minor": 0,
  "metadata": {
    "colab": {
      "provenance": []
    },
    "kernelspec": {
      "name": "python3",
      "display_name": "Python 3"
    },
    "language_info": {
      "name": "python"
    }
  },
  "cells": [
    {
      "cell_type": "code",
      "execution_count": null,
      "metadata": {
        "id": "dZkithVxOHsr"
      },
      "outputs": [],
      "source": [
        "import pandas as pd\n",
        "from sklearn.preprocessing import StandardScaler\n",
        "from sklearn.model_selection import train_test_split\n",
        "from sklearn.model_selection import GridSearchCV, RandomizedSearchCV\n",
        "from sklearn.metrics import classification_report, confusion_matrix\n",
        "import matplotlib.pyplot as plt\n",
        "from sklearn.ensemble import RandomForestClassifier\n",
        "from sklearn.linear_model import LogisticRegression\n",
        "import numpy as np\n",
        "from sklearn.preprocessing import StandardScaler"
      ]
    },
    {
      "cell_type": "code",
      "source": [
        "import pandas as pd\n",
        "\n",
        "# Save the DataFrame as a CSV file\n",
        "data = pd.read_csv('/content/2021.csv')\n"
      ],
      "metadata": {
        "id": "jvfLOqmZTEQm"
      },
      "execution_count": null,
      "outputs": []
    },
    {
      "cell_type": "code",
      "source": [
        "data.head()"
      ],
      "metadata": {
        "colab": {
          "base_uri": "https://localhost:8080/",
          "height": 386
        },
        "id": "heFLvTM2TeHF",
        "outputId": "c1a689d7-e8a3-4daa-c98a-c7b670e2e709"
      },
      "execution_count": null,
      "outputs": [
        {
          "output_type": "execute_result",
          "data": {
            "text/plain": [
              "   _STATE  FMONTH        IDATE IMONTH   IDAY    IYEAR  DISPCODE  \\\n",
              "0     1.0     1.0  b'01192021'  b'01'  b'19'  b'2021'    1100.0   \n",
              "1     1.0     1.0  b'01212021'  b'01'  b'21'  b'2021'    1100.0   \n",
              "2     1.0     1.0  b'01212021'  b'01'  b'21'  b'2021'    1100.0   \n",
              "3     1.0     1.0  b'01172021'  b'01'  b'17'  b'2021'    1100.0   \n",
              "4     1.0     1.0  b'01152021'  b'01'  b'15'  b'2021'    1100.0   \n",
              "\n",
              "           SEQNO          _PSU  CTELENM1  ...  _FRTRES1  _VEGRES1  _FRUTSU1  \\\n",
              "0  b'2021000001'  2.021000e+09       1.0  ...       1.0       1.0     100.0   \n",
              "1  b'2021000002'  2.021000e+09       1.0  ...       1.0       1.0     100.0   \n",
              "2  b'2021000003'  2.021000e+09       1.0  ...       1.0       1.0     100.0   \n",
              "3  b'2021000004'  2.021000e+09       1.0  ...       1.0       1.0     114.0   \n",
              "4  b'2021000005'  2.021000e+09       1.0  ...       1.0       1.0     100.0   \n",
              "\n",
              "   _VEGESU1  _FRTLT1A  _VEGLT1A  _FRT16A  _VEG23A      _FRUITE1      _VEGETE1  \n",
              "0     214.0       1.0       1.0      1.0      1.0  5.397605e-79  5.397605e-79  \n",
              "1     128.0       1.0       1.0      1.0      1.0  5.397605e-79  5.397605e-79  \n",
              "2      71.0       1.0       2.0      1.0      1.0  5.397605e-79  5.397605e-79  \n",
              "3     165.0       1.0       1.0      1.0      1.0  5.397605e-79  5.397605e-79  \n",
              "4     258.0       1.0       1.0      1.0      1.0  5.397605e-79  5.397605e-79  \n",
              "\n",
              "[5 rows x 303 columns]"
            ],
            "text/html": [
              "\n",
              "  <div id=\"df-d0e594ee-9333-4148-9bd1-3ffef33c18c0\">\n",
              "    <div class=\"colab-df-container\">\n",
              "      <div>\n",
              "<style scoped>\n",
              "    .dataframe tbody tr th:only-of-type {\n",
              "        vertical-align: middle;\n",
              "    }\n",
              "\n",
              "    .dataframe tbody tr th {\n",
              "        vertical-align: top;\n",
              "    }\n",
              "\n",
              "    .dataframe thead th {\n",
              "        text-align: right;\n",
              "    }\n",
              "</style>\n",
              "<table border=\"1\" class=\"dataframe\">\n",
              "  <thead>\n",
              "    <tr style=\"text-align: right;\">\n",
              "      <th></th>\n",
              "      <th>_STATE</th>\n",
              "      <th>FMONTH</th>\n",
              "      <th>IDATE</th>\n",
              "      <th>IMONTH</th>\n",
              "      <th>IDAY</th>\n",
              "      <th>IYEAR</th>\n",
              "      <th>DISPCODE</th>\n",
              "      <th>SEQNO</th>\n",
              "      <th>_PSU</th>\n",
              "      <th>CTELENM1</th>\n",
              "      <th>...</th>\n",
              "      <th>_FRTRES1</th>\n",
              "      <th>_VEGRES1</th>\n",
              "      <th>_FRUTSU1</th>\n",
              "      <th>_VEGESU1</th>\n",
              "      <th>_FRTLT1A</th>\n",
              "      <th>_VEGLT1A</th>\n",
              "      <th>_FRT16A</th>\n",
              "      <th>_VEG23A</th>\n",
              "      <th>_FRUITE1</th>\n",
              "      <th>_VEGETE1</th>\n",
              "    </tr>\n",
              "  </thead>\n",
              "  <tbody>\n",
              "    <tr>\n",
              "      <th>0</th>\n",
              "      <td>1.0</td>\n",
              "      <td>1.0</td>\n",
              "      <td>b'01192021'</td>\n",
              "      <td>b'01'</td>\n",
              "      <td>b'19'</td>\n",
              "      <td>b'2021'</td>\n",
              "      <td>1100.0</td>\n",
              "      <td>b'2021000001'</td>\n",
              "      <td>2.021000e+09</td>\n",
              "      <td>1.0</td>\n",
              "      <td>...</td>\n",
              "      <td>1.0</td>\n",
              "      <td>1.0</td>\n",
              "      <td>100.0</td>\n",
              "      <td>214.0</td>\n",
              "      <td>1.0</td>\n",
              "      <td>1.0</td>\n",
              "      <td>1.0</td>\n",
              "      <td>1.0</td>\n",
              "      <td>5.397605e-79</td>\n",
              "      <td>5.397605e-79</td>\n",
              "    </tr>\n",
              "    <tr>\n",
              "      <th>1</th>\n",
              "      <td>1.0</td>\n",
              "      <td>1.0</td>\n",
              "      <td>b'01212021'</td>\n",
              "      <td>b'01'</td>\n",
              "      <td>b'21'</td>\n",
              "      <td>b'2021'</td>\n",
              "      <td>1100.0</td>\n",
              "      <td>b'2021000002'</td>\n",
              "      <td>2.021000e+09</td>\n",
              "      <td>1.0</td>\n",
              "      <td>...</td>\n",
              "      <td>1.0</td>\n",
              "      <td>1.0</td>\n",
              "      <td>100.0</td>\n",
              "      <td>128.0</td>\n",
              "      <td>1.0</td>\n",
              "      <td>1.0</td>\n",
              "      <td>1.0</td>\n",
              "      <td>1.0</td>\n",
              "      <td>5.397605e-79</td>\n",
              "      <td>5.397605e-79</td>\n",
              "    </tr>\n",
              "    <tr>\n",
              "      <th>2</th>\n",
              "      <td>1.0</td>\n",
              "      <td>1.0</td>\n",
              "      <td>b'01212021'</td>\n",
              "      <td>b'01'</td>\n",
              "      <td>b'21'</td>\n",
              "      <td>b'2021'</td>\n",
              "      <td>1100.0</td>\n",
              "      <td>b'2021000003'</td>\n",
              "      <td>2.021000e+09</td>\n",
              "      <td>1.0</td>\n",
              "      <td>...</td>\n",
              "      <td>1.0</td>\n",
              "      <td>1.0</td>\n",
              "      <td>100.0</td>\n",
              "      <td>71.0</td>\n",
              "      <td>1.0</td>\n",
              "      <td>2.0</td>\n",
              "      <td>1.0</td>\n",
              "      <td>1.0</td>\n",
              "      <td>5.397605e-79</td>\n",
              "      <td>5.397605e-79</td>\n",
              "    </tr>\n",
              "    <tr>\n",
              "      <th>3</th>\n",
              "      <td>1.0</td>\n",
              "      <td>1.0</td>\n",
              "      <td>b'01172021'</td>\n",
              "      <td>b'01'</td>\n",
              "      <td>b'17'</td>\n",
              "      <td>b'2021'</td>\n",
              "      <td>1100.0</td>\n",
              "      <td>b'2021000004'</td>\n",
              "      <td>2.021000e+09</td>\n",
              "      <td>1.0</td>\n",
              "      <td>...</td>\n",
              "      <td>1.0</td>\n",
              "      <td>1.0</td>\n",
              "      <td>114.0</td>\n",
              "      <td>165.0</td>\n",
              "      <td>1.0</td>\n",
              "      <td>1.0</td>\n",
              "      <td>1.0</td>\n",
              "      <td>1.0</td>\n",
              "      <td>5.397605e-79</td>\n",
              "      <td>5.397605e-79</td>\n",
              "    </tr>\n",
              "    <tr>\n",
              "      <th>4</th>\n",
              "      <td>1.0</td>\n",
              "      <td>1.0</td>\n",
              "      <td>b'01152021'</td>\n",
              "      <td>b'01'</td>\n",
              "      <td>b'15'</td>\n",
              "      <td>b'2021'</td>\n",
              "      <td>1100.0</td>\n",
              "      <td>b'2021000005'</td>\n",
              "      <td>2.021000e+09</td>\n",
              "      <td>1.0</td>\n",
              "      <td>...</td>\n",
              "      <td>1.0</td>\n",
              "      <td>1.0</td>\n",
              "      <td>100.0</td>\n",
              "      <td>258.0</td>\n",
              "      <td>1.0</td>\n",
              "      <td>1.0</td>\n",
              "      <td>1.0</td>\n",
              "      <td>1.0</td>\n",
              "      <td>5.397605e-79</td>\n",
              "      <td>5.397605e-79</td>\n",
              "    </tr>\n",
              "  </tbody>\n",
              "</table>\n",
              "<p>5 rows × 303 columns</p>\n",
              "</div>\n",
              "      <button class=\"colab-df-convert\" onclick=\"convertToInteractive('df-d0e594ee-9333-4148-9bd1-3ffef33c18c0')\"\n",
              "              title=\"Convert this dataframe to an interactive table.\"\n",
              "              style=\"display:none;\">\n",
              "        \n",
              "  <svg xmlns=\"http://www.w3.org/2000/svg\" height=\"24px\"viewBox=\"0 0 24 24\"\n",
              "       width=\"24px\">\n",
              "    <path d=\"M0 0h24v24H0V0z\" fill=\"none\"/>\n",
              "    <path d=\"M18.56 5.44l.94 2.06.94-2.06 2.06-.94-2.06-.94-.94-2.06-.94 2.06-2.06.94zm-11 1L8.5 8.5l.94-2.06 2.06-.94-2.06-.94L8.5 2.5l-.94 2.06-2.06.94zm10 10l.94 2.06.94-2.06 2.06-.94-2.06-.94-.94-2.06-.94 2.06-2.06.94z\"/><path d=\"M17.41 7.96l-1.37-1.37c-.4-.4-.92-.59-1.43-.59-.52 0-1.04.2-1.43.59L10.3 9.45l-7.72 7.72c-.78.78-.78 2.05 0 2.83L4 21.41c.39.39.9.59 1.41.59.51 0 1.02-.2 1.41-.59l7.78-7.78 2.81-2.81c.8-.78.8-2.07 0-2.86zM5.41 20L4 18.59l7.72-7.72 1.47 1.35L5.41 20z\"/>\n",
              "  </svg>\n",
              "      </button>\n",
              "      \n",
              "  <style>\n",
              "    .colab-df-container {\n",
              "      display:flex;\n",
              "      flex-wrap:wrap;\n",
              "      gap: 12px;\n",
              "    }\n",
              "\n",
              "    .colab-df-convert {\n",
              "      background-color: #E8F0FE;\n",
              "      border: none;\n",
              "      border-radius: 50%;\n",
              "      cursor: pointer;\n",
              "      display: none;\n",
              "      fill: #1967D2;\n",
              "      height: 32px;\n",
              "      padding: 0 0 0 0;\n",
              "      width: 32px;\n",
              "    }\n",
              "\n",
              "    .colab-df-convert:hover {\n",
              "      background-color: #E2EBFA;\n",
              "      box-shadow: 0px 1px 2px rgba(60, 64, 67, 0.3), 0px 1px 3px 1px rgba(60, 64, 67, 0.15);\n",
              "      fill: #174EA6;\n",
              "    }\n",
              "\n",
              "    [theme=dark] .colab-df-convert {\n",
              "      background-color: #3B4455;\n",
              "      fill: #D2E3FC;\n",
              "    }\n",
              "\n",
              "    [theme=dark] .colab-df-convert:hover {\n",
              "      background-color: #434B5C;\n",
              "      box-shadow: 0px 1px 3px 1px rgba(0, 0, 0, 0.15);\n",
              "      filter: drop-shadow(0px 1px 2px rgba(0, 0, 0, 0.3));\n",
              "      fill: #FFFFFF;\n",
              "    }\n",
              "  </style>\n",
              "\n",
              "      <script>\n",
              "        const buttonEl =\n",
              "          document.querySelector('#df-d0e594ee-9333-4148-9bd1-3ffef33c18c0 button.colab-df-convert');\n",
              "        buttonEl.style.display =\n",
              "          google.colab.kernel.accessAllowed ? 'block' : 'none';\n",
              "\n",
              "        async function convertToInteractive(key) {\n",
              "          const element = document.querySelector('#df-d0e594ee-9333-4148-9bd1-3ffef33c18c0');\n",
              "          const dataTable =\n",
              "            await google.colab.kernel.invokeFunction('convertToInteractive',\n",
              "                                                     [key], {});\n",
              "          if (!dataTable) return;\n",
              "\n",
              "          const docLinkHtml = 'Like what you see? Visit the ' +\n",
              "            '<a target=\"_blank\" href=https://colab.research.google.com/notebooks/data_table.ipynb>data table notebook</a>'\n",
              "            + ' to learn more about interactive tables.';\n",
              "          element.innerHTML = '';\n",
              "          dataTable['output_type'] = 'display_data';\n",
              "          await google.colab.output.renderOutput(dataTable, element);\n",
              "          const docLink = document.createElement('div');\n",
              "          docLink.innerHTML = docLinkHtml;\n",
              "          element.appendChild(docLink);\n",
              "        }\n",
              "      </script>\n",
              "    </div>\n",
              "  </div>\n",
              "  "
            ]
          },
          "metadata": {},
          "execution_count": 3
        }
      ]
    },
    {
      "cell_type": "code",
      "source": [
        "data.describe()"
      ],
      "metadata": {
        "colab": {
          "base_uri": "https://localhost:8080/",
          "height": 394
        },
        "id": "Qb7hXCwZT2XP",
        "outputId": "a8a8e7f1-cf2a-49f9-85f7-db49ac814cde"
      },
      "execution_count": null,
      "outputs": [
        {
          "output_type": "execute_result",
          "data": {
            "text/plain": [
              "              _STATE         FMONTH       DISPCODE          _PSU  \\\n",
              "count  438693.000000  438693.000000  438693.000000  4.386930e+05   \n",
              "mean       30.742155       6.405680    1118.189030  2.021006e+09   \n",
              "std        15.334888       3.421731      38.575453  6.383751e+03   \n",
              "min         1.000000       1.000000    1100.000000  2.021000e+09   \n",
              "25%        20.000000       3.000000    1100.000000  2.021002e+09   \n",
              "50%        31.000000       6.000000    1100.000000  2.021004e+09   \n",
              "75%        41.000000       9.000000    1100.000000  2.021008e+09   \n",
              "max        78.000000      12.000000    1200.000000  2.021039e+09   \n",
              "\n",
              "            CTELENM1       PVTRESD1  COLGHOUS  STATERE1  CELPHON1  \\\n",
              "count  117786.000000  117786.000000      30.0  117786.0  117786.0   \n",
              "mean        1.000017       1.000255       1.0       1.0       2.0   \n",
              "std         0.004121       0.015957       0.0       0.0       0.0   \n",
              "min         1.000000       1.000000       1.0       1.0       2.0   \n",
              "25%         1.000000       1.000000       1.0       1.0       2.0   \n",
              "50%         1.000000       1.000000       1.0       1.0       2.0   \n",
              "75%         1.000000       1.000000       1.0       1.0       2.0   \n",
              "max         2.000000       2.000000       1.0       1.0       2.0   \n",
              "\n",
              "             LADULT1  ...      _FRTRES1      _VEGRES1      _FRUTSU1  \\\n",
              "count  117786.000000  ...  4.386930e+05  4.386930e+05  3.876060e+05   \n",
              "mean        1.006291  ...  8.835473e-01  8.629406e-01  1.783430e+02   \n",
              "std         0.079067  ...  3.207674e-01  3.439104e-01  6.912931e+02   \n",
              "min         1.000000  ...  5.397605e-79  5.397605e-79  5.397605e-79   \n",
              "25%         1.000000  ...  1.000000e+00  1.000000e+00  5.700000e+01   \n",
              "50%         1.000000  ...  1.000000e+00  1.000000e+00  1.000000e+02   \n",
              "75%         1.000000  ...  1.000000e+00  1.000000e+00  2.000000e+02   \n",
              "max         2.000000  ...  1.000000e+00  1.000000e+00  1.980000e+04   \n",
              "\n",
              "           _VEGESU1       _FRTLT1A       _VEGLT1A       _FRT16A       _VEG23A  \\\n",
              "count  3.785660e+05  438693.000000  438693.000000  4.386930e+05  4.386930e+05   \n",
              "mean   2.715442e+02       2.270561       2.257184  9.949669e-01  9.926988e-01   \n",
              "std    1.036227e+03       2.485479       2.711460  7.076589e-02  8.513485e-02   \n",
              "min    5.397605e-79       1.000000       1.000000  5.397605e-79  5.397605e-79   \n",
              "25%    1.140000e+02       1.000000       1.000000  1.000000e+00  1.000000e+00   \n",
              "50%    1.670000e+02       1.000000       1.000000  1.000000e+00  1.000000e+00   \n",
              "75%    2.290000e+02       2.000000       2.000000  1.000000e+00  1.000000e+00   \n",
              "max    3.960000e+04       9.000000       9.000000  1.000000e+00  1.000000e+00   \n",
              "\n",
              "           _FRUITE1      _VEGETE1  \n",
              "count  4.386930e+05  4.386930e+05  \n",
              "mean   1.265190e-01  1.516619e-01  \n",
              "std    3.472441e-01  3.785014e-01  \n",
              "min    5.397605e-79  5.397605e-79  \n",
              "25%    5.397605e-79  5.397605e-79  \n",
              "50%    5.397605e-79  5.397605e-79  \n",
              "75%    5.397605e-79  5.397605e-79  \n",
              "max    2.000000e+00  2.000000e+00  \n",
              "\n",
              "[8 rows x 298 columns]"
            ],
            "text/html": [
              "\n",
              "  <div id=\"df-0a2a044d-8de5-4144-bee0-f17d973bdcc6\">\n",
              "    <div class=\"colab-df-container\">\n",
              "      <div>\n",
              "<style scoped>\n",
              "    .dataframe tbody tr th:only-of-type {\n",
              "        vertical-align: middle;\n",
              "    }\n",
              "\n",
              "    .dataframe tbody tr th {\n",
              "        vertical-align: top;\n",
              "    }\n",
              "\n",
              "    .dataframe thead th {\n",
              "        text-align: right;\n",
              "    }\n",
              "</style>\n",
              "<table border=\"1\" class=\"dataframe\">\n",
              "  <thead>\n",
              "    <tr style=\"text-align: right;\">\n",
              "      <th></th>\n",
              "      <th>_STATE</th>\n",
              "      <th>FMONTH</th>\n",
              "      <th>DISPCODE</th>\n",
              "      <th>_PSU</th>\n",
              "      <th>CTELENM1</th>\n",
              "      <th>PVTRESD1</th>\n",
              "      <th>COLGHOUS</th>\n",
              "      <th>STATERE1</th>\n",
              "      <th>CELPHON1</th>\n",
              "      <th>LADULT1</th>\n",
              "      <th>...</th>\n",
              "      <th>_FRTRES1</th>\n",
              "      <th>_VEGRES1</th>\n",
              "      <th>_FRUTSU1</th>\n",
              "      <th>_VEGESU1</th>\n",
              "      <th>_FRTLT1A</th>\n",
              "      <th>_VEGLT1A</th>\n",
              "      <th>_FRT16A</th>\n",
              "      <th>_VEG23A</th>\n",
              "      <th>_FRUITE1</th>\n",
              "      <th>_VEGETE1</th>\n",
              "    </tr>\n",
              "  </thead>\n",
              "  <tbody>\n",
              "    <tr>\n",
              "      <th>count</th>\n",
              "      <td>438693.000000</td>\n",
              "      <td>438693.000000</td>\n",
              "      <td>438693.000000</td>\n",
              "      <td>4.386930e+05</td>\n",
              "      <td>117786.000000</td>\n",
              "      <td>117786.000000</td>\n",
              "      <td>30.0</td>\n",
              "      <td>117786.0</td>\n",
              "      <td>117786.0</td>\n",
              "      <td>117786.000000</td>\n",
              "      <td>...</td>\n",
              "      <td>4.386930e+05</td>\n",
              "      <td>4.386930e+05</td>\n",
              "      <td>3.876060e+05</td>\n",
              "      <td>3.785660e+05</td>\n",
              "      <td>438693.000000</td>\n",
              "      <td>438693.000000</td>\n",
              "      <td>4.386930e+05</td>\n",
              "      <td>4.386930e+05</td>\n",
              "      <td>4.386930e+05</td>\n",
              "      <td>4.386930e+05</td>\n",
              "    </tr>\n",
              "    <tr>\n",
              "      <th>mean</th>\n",
              "      <td>30.742155</td>\n",
              "      <td>6.405680</td>\n",
              "      <td>1118.189030</td>\n",
              "      <td>2.021006e+09</td>\n",
              "      <td>1.000017</td>\n",
              "      <td>1.000255</td>\n",
              "      <td>1.0</td>\n",
              "      <td>1.0</td>\n",
              "      <td>2.0</td>\n",
              "      <td>1.006291</td>\n",
              "      <td>...</td>\n",
              "      <td>8.835473e-01</td>\n",
              "      <td>8.629406e-01</td>\n",
              "      <td>1.783430e+02</td>\n",
              "      <td>2.715442e+02</td>\n",
              "      <td>2.270561</td>\n",
              "      <td>2.257184</td>\n",
              "      <td>9.949669e-01</td>\n",
              "      <td>9.926988e-01</td>\n",
              "      <td>1.265190e-01</td>\n",
              "      <td>1.516619e-01</td>\n",
              "    </tr>\n",
              "    <tr>\n",
              "      <th>std</th>\n",
              "      <td>15.334888</td>\n",
              "      <td>3.421731</td>\n",
              "      <td>38.575453</td>\n",
              "      <td>6.383751e+03</td>\n",
              "      <td>0.004121</td>\n",
              "      <td>0.015957</td>\n",
              "      <td>0.0</td>\n",
              "      <td>0.0</td>\n",
              "      <td>0.0</td>\n",
              "      <td>0.079067</td>\n",
              "      <td>...</td>\n",
              "      <td>3.207674e-01</td>\n",
              "      <td>3.439104e-01</td>\n",
              "      <td>6.912931e+02</td>\n",
              "      <td>1.036227e+03</td>\n",
              "      <td>2.485479</td>\n",
              "      <td>2.711460</td>\n",
              "      <td>7.076589e-02</td>\n",
              "      <td>8.513485e-02</td>\n",
              "      <td>3.472441e-01</td>\n",
              "      <td>3.785014e-01</td>\n",
              "    </tr>\n",
              "    <tr>\n",
              "      <th>min</th>\n",
              "      <td>1.000000</td>\n",
              "      <td>1.000000</td>\n",
              "      <td>1100.000000</td>\n",
              "      <td>2.021000e+09</td>\n",
              "      <td>1.000000</td>\n",
              "      <td>1.000000</td>\n",
              "      <td>1.0</td>\n",
              "      <td>1.0</td>\n",
              "      <td>2.0</td>\n",
              "      <td>1.000000</td>\n",
              "      <td>...</td>\n",
              "      <td>5.397605e-79</td>\n",
              "      <td>5.397605e-79</td>\n",
              "      <td>5.397605e-79</td>\n",
              "      <td>5.397605e-79</td>\n",
              "      <td>1.000000</td>\n",
              "      <td>1.000000</td>\n",
              "      <td>5.397605e-79</td>\n",
              "      <td>5.397605e-79</td>\n",
              "      <td>5.397605e-79</td>\n",
              "      <td>5.397605e-79</td>\n",
              "    </tr>\n",
              "    <tr>\n",
              "      <th>25%</th>\n",
              "      <td>20.000000</td>\n",
              "      <td>3.000000</td>\n",
              "      <td>1100.000000</td>\n",
              "      <td>2.021002e+09</td>\n",
              "      <td>1.000000</td>\n",
              "      <td>1.000000</td>\n",
              "      <td>1.0</td>\n",
              "      <td>1.0</td>\n",
              "      <td>2.0</td>\n",
              "      <td>1.000000</td>\n",
              "      <td>...</td>\n",
              "      <td>1.000000e+00</td>\n",
              "      <td>1.000000e+00</td>\n",
              "      <td>5.700000e+01</td>\n",
              "      <td>1.140000e+02</td>\n",
              "      <td>1.000000</td>\n",
              "      <td>1.000000</td>\n",
              "      <td>1.000000e+00</td>\n",
              "      <td>1.000000e+00</td>\n",
              "      <td>5.397605e-79</td>\n",
              "      <td>5.397605e-79</td>\n",
              "    </tr>\n",
              "    <tr>\n",
              "      <th>50%</th>\n",
              "      <td>31.000000</td>\n",
              "      <td>6.000000</td>\n",
              "      <td>1100.000000</td>\n",
              "      <td>2.021004e+09</td>\n",
              "      <td>1.000000</td>\n",
              "      <td>1.000000</td>\n",
              "      <td>1.0</td>\n",
              "      <td>1.0</td>\n",
              "      <td>2.0</td>\n",
              "      <td>1.000000</td>\n",
              "      <td>...</td>\n",
              "      <td>1.000000e+00</td>\n",
              "      <td>1.000000e+00</td>\n",
              "      <td>1.000000e+02</td>\n",
              "      <td>1.670000e+02</td>\n",
              "      <td>1.000000</td>\n",
              "      <td>1.000000</td>\n",
              "      <td>1.000000e+00</td>\n",
              "      <td>1.000000e+00</td>\n",
              "      <td>5.397605e-79</td>\n",
              "      <td>5.397605e-79</td>\n",
              "    </tr>\n",
              "    <tr>\n",
              "      <th>75%</th>\n",
              "      <td>41.000000</td>\n",
              "      <td>9.000000</td>\n",
              "      <td>1100.000000</td>\n",
              "      <td>2.021008e+09</td>\n",
              "      <td>1.000000</td>\n",
              "      <td>1.000000</td>\n",
              "      <td>1.0</td>\n",
              "      <td>1.0</td>\n",
              "      <td>2.0</td>\n",
              "      <td>1.000000</td>\n",
              "      <td>...</td>\n",
              "      <td>1.000000e+00</td>\n",
              "      <td>1.000000e+00</td>\n",
              "      <td>2.000000e+02</td>\n",
              "      <td>2.290000e+02</td>\n",
              "      <td>2.000000</td>\n",
              "      <td>2.000000</td>\n",
              "      <td>1.000000e+00</td>\n",
              "      <td>1.000000e+00</td>\n",
              "      <td>5.397605e-79</td>\n",
              "      <td>5.397605e-79</td>\n",
              "    </tr>\n",
              "    <tr>\n",
              "      <th>max</th>\n",
              "      <td>78.000000</td>\n",
              "      <td>12.000000</td>\n",
              "      <td>1200.000000</td>\n",
              "      <td>2.021039e+09</td>\n",
              "      <td>2.000000</td>\n",
              "      <td>2.000000</td>\n",
              "      <td>1.0</td>\n",
              "      <td>1.0</td>\n",
              "      <td>2.0</td>\n",
              "      <td>2.000000</td>\n",
              "      <td>...</td>\n",
              "      <td>1.000000e+00</td>\n",
              "      <td>1.000000e+00</td>\n",
              "      <td>1.980000e+04</td>\n",
              "      <td>3.960000e+04</td>\n",
              "      <td>9.000000</td>\n",
              "      <td>9.000000</td>\n",
              "      <td>1.000000e+00</td>\n",
              "      <td>1.000000e+00</td>\n",
              "      <td>2.000000e+00</td>\n",
              "      <td>2.000000e+00</td>\n",
              "    </tr>\n",
              "  </tbody>\n",
              "</table>\n",
              "<p>8 rows × 298 columns</p>\n",
              "</div>\n",
              "      <button class=\"colab-df-convert\" onclick=\"convertToInteractive('df-0a2a044d-8de5-4144-bee0-f17d973bdcc6')\"\n",
              "              title=\"Convert this dataframe to an interactive table.\"\n",
              "              style=\"display:none;\">\n",
              "        \n",
              "  <svg xmlns=\"http://www.w3.org/2000/svg\" height=\"24px\"viewBox=\"0 0 24 24\"\n",
              "       width=\"24px\">\n",
              "    <path d=\"M0 0h24v24H0V0z\" fill=\"none\"/>\n",
              "    <path d=\"M18.56 5.44l.94 2.06.94-2.06 2.06-.94-2.06-.94-.94-2.06-.94 2.06-2.06.94zm-11 1L8.5 8.5l.94-2.06 2.06-.94-2.06-.94L8.5 2.5l-.94 2.06-2.06.94zm10 10l.94 2.06.94-2.06 2.06-.94-2.06-.94-.94-2.06-.94 2.06-2.06.94z\"/><path d=\"M17.41 7.96l-1.37-1.37c-.4-.4-.92-.59-1.43-.59-.52 0-1.04.2-1.43.59L10.3 9.45l-7.72 7.72c-.78.78-.78 2.05 0 2.83L4 21.41c.39.39.9.59 1.41.59.51 0 1.02-.2 1.41-.59l7.78-7.78 2.81-2.81c.8-.78.8-2.07 0-2.86zM5.41 20L4 18.59l7.72-7.72 1.47 1.35L5.41 20z\"/>\n",
              "  </svg>\n",
              "      </button>\n",
              "      \n",
              "  <style>\n",
              "    .colab-df-container {\n",
              "      display:flex;\n",
              "      flex-wrap:wrap;\n",
              "      gap: 12px;\n",
              "    }\n",
              "\n",
              "    .colab-df-convert {\n",
              "      background-color: #E8F0FE;\n",
              "      border: none;\n",
              "      border-radius: 50%;\n",
              "      cursor: pointer;\n",
              "      display: none;\n",
              "      fill: #1967D2;\n",
              "      height: 32px;\n",
              "      padding: 0 0 0 0;\n",
              "      width: 32px;\n",
              "    }\n",
              "\n",
              "    .colab-df-convert:hover {\n",
              "      background-color: #E2EBFA;\n",
              "      box-shadow: 0px 1px 2px rgba(60, 64, 67, 0.3), 0px 1px 3px 1px rgba(60, 64, 67, 0.15);\n",
              "      fill: #174EA6;\n",
              "    }\n",
              "\n",
              "    [theme=dark] .colab-df-convert {\n",
              "      background-color: #3B4455;\n",
              "      fill: #D2E3FC;\n",
              "    }\n",
              "\n",
              "    [theme=dark] .colab-df-convert:hover {\n",
              "      background-color: #434B5C;\n",
              "      box-shadow: 0px 1px 3px 1px rgba(0, 0, 0, 0.15);\n",
              "      filter: drop-shadow(0px 1px 2px rgba(0, 0, 0, 0.3));\n",
              "      fill: #FFFFFF;\n",
              "    }\n",
              "  </style>\n",
              "\n",
              "      <script>\n",
              "        const buttonEl =\n",
              "          document.querySelector('#df-0a2a044d-8de5-4144-bee0-f17d973bdcc6 button.colab-df-convert');\n",
              "        buttonEl.style.display =\n",
              "          google.colab.kernel.accessAllowed ? 'block' : 'none';\n",
              "\n",
              "        async function convertToInteractive(key) {\n",
              "          const element = document.querySelector('#df-0a2a044d-8de5-4144-bee0-f17d973bdcc6');\n",
              "          const dataTable =\n",
              "            await google.colab.kernel.invokeFunction('convertToInteractive',\n",
              "                                                     [key], {});\n",
              "          if (!dataTable) return;\n",
              "\n",
              "          const docLinkHtml = 'Like what you see? Visit the ' +\n",
              "            '<a target=\"_blank\" href=https://colab.research.google.com/notebooks/data_table.ipynb>data table notebook</a>'\n",
              "            + ' to learn more about interactive tables.';\n",
              "          element.innerHTML = '';\n",
              "          dataTable['output_type'] = 'display_data';\n",
              "          await google.colab.output.renderOutput(dataTable, element);\n",
              "          const docLink = document.createElement('div');\n",
              "          docLink.innerHTML = docLinkHtml;\n",
              "          element.appendChild(docLink);\n",
              "        }\n",
              "      </script>\n",
              "    </div>\n",
              "  </div>\n",
              "  "
            ]
          },
          "metadata": {},
          "execution_count": 4
        }
      ]
    },
    {
      "cell_type": "code",
      "source": [
        "data.shape"
      ],
      "metadata": {
        "colab": {
          "base_uri": "https://localhost:8080/"
        },
        "id": "dmuoaijrXV_J",
        "outputId": "e7fdaf31-7be4-41dc-b93f-17de54c7d21c"
      },
      "execution_count": null,
      "outputs": [
        {
          "output_type": "execute_result",
          "data": {
            "text/plain": [
              "(438693, 303)"
            ]
          },
          "metadata": {},
          "execution_count": 5
        }
      ]
    },
    {
      "cell_type": "code",
      "source": [
        "sum_of_null_values = data.isna().sum()\n",
        "print(sum_of_null_values)"
      ],
      "metadata": {
        "colab": {
          "base_uri": "https://localhost:8080/"
        },
        "id": "ejLvut_KXdzz",
        "outputId": "1c4064d6-a5e7-44a1-ece6-4e734f59178d"
      },
      "execution_count": null,
      "outputs": [
        {
          "output_type": "stream",
          "name": "stdout",
          "text": [
            "_STATE      0\n",
            "FMONTH      0\n",
            "IDATE       0\n",
            "IMONTH      0\n",
            "IDAY        0\n",
            "           ..\n",
            "_VEGLT1A    0\n",
            "_FRT16A     0\n",
            "_VEG23A     0\n",
            "_FRUITE1    0\n",
            "_VEGETE1    0\n",
            "Length: 303, dtype: int64\n"
          ]
        }
      ]
    },
    {
      "cell_type": "code",
      "source": [
        "# Iterate over all columns in the DataFrame\n",
        "for col in data.columns:\n",
        "    # Count the number of null values in the column\n",
        "    null_count = data[col].isnull().sum()\n",
        "\n",
        "    # Calculate the total number of rows in the column\n",
        "    total_count = len(data[col])\n",
        "\n",
        "    # Calculate the percentage of null values\n",
        "    null_percentage = (null_count / total_count) * 100\n",
        "\n",
        "    # Check if the percentage of null values is greater than or equal to 90%\n",
        "    if null_percentage > 90:\n",
        "        # Drop the column if the percentage of null values is greater than or equal to 90%\n",
        "        data.drop(col, axis=1, inplace=True)\n"
      ],
      "metadata": {
        "id": "jitU-ReuZWbV"
      },
      "execution_count": null,
      "outputs": []
    },
    {
      "cell_type": "code",
      "source": [
        "#The shape of data after dropping the columns with more than 90% of its data is null.\n",
        "data.shape"
      ],
      "metadata": {
        "colab": {
          "base_uri": "https://localhost:8080/"
        },
        "id": "4ZPaDIHCaJaY",
        "outputId": "024f7636-7534-4a47-a62a-d170ecef8ca4"
      },
      "execution_count": null,
      "outputs": [
        {
          "output_type": "execute_result",
          "data": {
            "text/plain": [
              "(438693, 212)"
            ]
          },
          "metadata": {},
          "execution_count": 8
        }
      ]
    },
    {
      "cell_type": "code",
      "source": [
        "#CHCOCNCR and CHCSCNCR correspond to the presence or absence of cancer. For our analysis, we only need rows where cancer status is known and either positive or negative.\n",
        "#Positive corresponds to a value of 1, and Negative corresponds to a value of 2.\n",
        "# For our Analysis we dont require the rows having these values 7 - Don't Know & 9 - Refused\n",
        "\n",
        "# Filter the rows where either 'CHCSCNCR' or 'CHCOCNCR' column has values 1 or 2\n",
        "data = data.loc[(data['CHCSCNCR'].isin([1, 2]) | data['CHCOCNCR'].isin([1, 2]))]\n",
        "\n",
        "# store the count of label for cancer disease\n",
        "skin_cancer_count = np.where(data['CHCSCNCR']==1, 1, 0) #for skin cancer\n",
        "other_cancer_count = np.where(data['CHCOCNCR']==1, 1, 0) # for other cancer\n",
        "skin_other_count = np.where((data['CHCSCNCR']==1) | (data['CHCOCNCR']==1), 1, 0)\n"
      ],
      "metadata": {
        "id": "18TWoUA0-JMs"
      },
      "execution_count": null,
      "outputs": []
    },
    {
      "cell_type": "code",
      "source": [
        "# drop the cancer label coulmn\n",
        "data = data.drop(['CHCSCNCR'], axis=1)\n",
        "data = data.drop(['CHCOCNCR'], axis=1)\n",
        "print(\"shape of data\")\n",
        "data.shape\n"
      ],
      "metadata": {
        "colab": {
          "base_uri": "https://localhost:8080/"
        },
        "id": "74MD-rWGfUes",
        "outputId": "d41d65ee-2c38-460b-9907-b8353f579c4d"
      },
      "execution_count": null,
      "outputs": [
        {
          "output_type": "stream",
          "name": "stdout",
          "text": [
            "shape of data\n"
          ]
        },
        {
          "output_type": "execute_result",
          "data": {
            "text/plain": [
              "(438291, 210)"
            ]
          },
          "metadata": {},
          "execution_count": 10
        }
      ]
    },
    {
      "cell_type": "code",
      "source": [
        "#Based on our observation from the code book, there are certain columns that are not relevant to health, and therefore it would be advisable to eliminate them.\n",
        "\n",
        "# removing columns FMONTH, DISPCODE, SEQNO, PVTRESD1, HHADULT\n",
        "data = data.drop(columns = ['FMONTH','DISPCODE','SEQNO','PVTRESD1','HHADULT', 'STATERE1', 'CELPHON1'], axis=1)\n",
        "\n",
        "# removing date columns IMONTH, IDAY, IDATE, and IYEAR as they are the columns of interview date\n",
        "data = data.drop(columns = ['IMONTH', 'IDAY', 'IDATE', 'IYEAR'], axis=1)\n",
        "\n",
        "print(\"shape of data after removing the columns which are not need for our analysis\")\n",
        "data.shape"
      ],
      "metadata": {
        "colab": {
          "base_uri": "https://localhost:8080/"
        },
        "id": "y8-cy3Lxkl6N",
        "outputId": "c3f31344-fed7-4265-93f6-75eb0a3a8797"
      },
      "execution_count": null,
      "outputs": [
        {
          "output_type": "stream",
          "name": "stdout",
          "text": [
            "shape of data after removing the columns which are not need for our analysis\n"
          ]
        },
        {
          "output_type": "execute_result",
          "data": {
            "text/plain": [
              "(438291, 199)"
            ]
          },
          "metadata": {},
          "execution_count": 11
        }
      ]
    },
    {
      "cell_type": "code",
      "source": [
        "# We are Replacing the NaN or Null values with the median of each columns and creating a new dataframe with filled in values.\n",
        "\n",
        "cancer_df = data.fillna(data.median())"
      ],
      "metadata": {
        "id": "FzOztxi0nD4N"
      },
      "execution_count": null,
      "outputs": []
    },
    {
      "cell_type": "markdown",
      "source": [
        "## We use the Heatmaps to find out the coorelation between columns."
      ],
      "metadata": {
        "id": "t1HXLX4rlosw"
      }
    },
    {
      "cell_type": "code",
      "source": [
        "import seaborn as sns\n",
        "import matplotlib.pyplot as plt\n",
        "\n",
        "# create a correlation matrix using Pandas corr() function\n",
        "corr_matrix = cancer_df.corr().abs()\n",
        "\n",
        "corr_matrix"
      ],
      "metadata": {
        "colab": {
          "base_uri": "https://localhost:8080/",
          "height": 488
        },
        "id": "rTetqrILn_-a",
        "outputId": "6556a2ad-53fc-4a86-f203-a4d92eae3cf0"
      },
      "execution_count": null,
      "outputs": [
        {
          "output_type": "execute_result",
          "data": {
            "text/plain": [
              "            _STATE      _PSU  CTELENM1   LADULT1  NUMADULT   LANDSEX  \\\n",
              "_STATE    1.000000  0.046555  0.001078  0.052158  0.002084  0.007917   \n",
              "_PSU      0.046555  1.000000  0.001632  0.033594  0.101536  0.106525   \n",
              "CTELENM1  0.001078  0.001632  1.000000  0.000088  0.002128  0.005283   \n",
              "LADULT1   0.052158  0.033594  0.000088  1.000000  0.016770  0.002614   \n",
              "NUMADULT  0.002084  0.101536  0.002128  0.016770  1.000000  0.401737   \n",
              "...            ...       ...       ...       ...       ...       ...   \n",
              "_VEGLT1A  0.004191  0.029469  0.000989  0.000196  0.014856  0.014157   \n",
              "_FRT16A   0.002045  0.045656  0.000152  0.002927  0.002909  0.001722   \n",
              "_VEG23A   0.002270  0.055641  0.000183  0.003529  0.000814  0.001938   \n",
              "_FRUITE1  0.005208  0.045385  0.000777  0.000561  0.001611  0.001593   \n",
              "_VEGETE1  0.006339  0.051695  0.000855  0.001633  0.010487  0.008454   \n",
              "\n",
              "            NUMMEN  NUMWOMEN  RESPSLCT  SAFETIME  ...  _FRTRES1  _VEGRES1  \\\n",
              "_STATE    0.010886  0.009686  0.009649       NaN  ...  0.004736  0.005854   \n",
              "_PSU      0.041926  0.065259  0.151604       NaN  ...  0.028972  0.029333   \n",
              "CTELENM1  0.000163  0.000243  0.000558       NaN  ...  0.000774  0.000850   \n",
              "LADULT1   0.006788  0.019986  0.000899       NaN  ...  0.000685  0.000049   \n",
              "NUMADULT  0.436977  0.451937  0.181858       NaN  ...  0.000459  0.011948   \n",
              "...            ...       ...       ...       ...  ...       ...       ...   \n",
              "_VEGLT1A  0.000402  0.001771  0.006747       NaN  ...  0.728413  0.991044   \n",
              "_FRT16A   0.001059  0.001003  0.000372       NaN  ...  0.025780  0.011880   \n",
              "_VEG23A   0.000060  0.004032  0.000559       NaN  ...  0.021542  0.034122   \n",
              "_FRUITE1  0.002999  0.001001  0.003337       NaN  ...  0.913041  0.672463   \n",
              "_VEGETE1  0.000081  0.003877  0.004763       NaN  ...  0.656520  0.893073   \n",
              "\n",
              "          _FRUTSU1  _VEGESU1  _FRTLT1A  _VEGLT1A   _FRT16A   _VEG23A  \\\n",
              "_STATE    0.001418  0.004332  0.004981  0.004191  0.002045  0.002270   \n",
              "_PSU      0.041220  0.051861  0.030175  0.029469  0.045656  0.055641   \n",
              "CTELENM1  0.000196  0.000119  0.000661  0.000989  0.000152  0.000183   \n",
              "LADULT1   0.001684  0.003174  0.000573  0.000196  0.002927  0.003529   \n",
              "NUMADULT  0.006895  0.004434  0.003819  0.014856  0.002909  0.000814   \n",
              "...            ...       ...       ...       ...       ...       ...   \n",
              "_VEGLT1A  0.028169  0.049867  0.720994  1.000000  0.014025  0.039712   \n",
              "_FRT16A   0.830494  0.368483  0.036330  0.014025  1.000000  0.398050   \n",
              "_VEG23A   0.375026  0.827891  0.025886  0.039712  0.398050  1.000000   \n",
              "_FRUITE1  0.303213  0.127255  0.892942  0.667010  0.384194  0.142510   \n",
              "_VEGETE1  0.148513  0.338837  0.642941  0.882422  0.168399  0.419175   \n",
              "\n",
              "          _FRUITE1  _VEGETE1  \n",
              "_STATE    0.005208  0.006339  \n",
              "_PSU      0.045385  0.051695  \n",
              "CTELENM1  0.000777  0.000855  \n",
              "LADULT1   0.000561  0.001633  \n",
              "NUMADULT  0.001611  0.010487  \n",
              "...            ...       ...  \n",
              "_VEGLT1A  0.667010  0.882422  \n",
              "_FRT16A   0.384194  0.168399  \n",
              "_VEG23A   0.142510  0.419175  \n",
              "_FRUITE1  1.000000  0.675043  \n",
              "_VEGETE1  0.675043  1.000000  \n",
              "\n",
              "[199 rows x 199 columns]"
            ],
            "text/html": [
              "\n",
              "  <div id=\"df-176ad5eb-c736-4cfc-a139-6bef2f46af4a\">\n",
              "    <div class=\"colab-df-container\">\n",
              "      <div>\n",
              "<style scoped>\n",
              "    .dataframe tbody tr th:only-of-type {\n",
              "        vertical-align: middle;\n",
              "    }\n",
              "\n",
              "    .dataframe tbody tr th {\n",
              "        vertical-align: top;\n",
              "    }\n",
              "\n",
              "    .dataframe thead th {\n",
              "        text-align: right;\n",
              "    }\n",
              "</style>\n",
              "<table border=\"1\" class=\"dataframe\">\n",
              "  <thead>\n",
              "    <tr style=\"text-align: right;\">\n",
              "      <th></th>\n",
              "      <th>_STATE</th>\n",
              "      <th>_PSU</th>\n",
              "      <th>CTELENM1</th>\n",
              "      <th>LADULT1</th>\n",
              "      <th>NUMADULT</th>\n",
              "      <th>LANDSEX</th>\n",
              "      <th>NUMMEN</th>\n",
              "      <th>NUMWOMEN</th>\n",
              "      <th>RESPSLCT</th>\n",
              "      <th>SAFETIME</th>\n",
              "      <th>...</th>\n",
              "      <th>_FRTRES1</th>\n",
              "      <th>_VEGRES1</th>\n",
              "      <th>_FRUTSU1</th>\n",
              "      <th>_VEGESU1</th>\n",
              "      <th>_FRTLT1A</th>\n",
              "      <th>_VEGLT1A</th>\n",
              "      <th>_FRT16A</th>\n",
              "      <th>_VEG23A</th>\n",
              "      <th>_FRUITE1</th>\n",
              "      <th>_VEGETE1</th>\n",
              "    </tr>\n",
              "  </thead>\n",
              "  <tbody>\n",
              "    <tr>\n",
              "      <th>_STATE</th>\n",
              "      <td>1.000000</td>\n",
              "      <td>0.046555</td>\n",
              "      <td>0.001078</td>\n",
              "      <td>0.052158</td>\n",
              "      <td>0.002084</td>\n",
              "      <td>0.007917</td>\n",
              "      <td>0.010886</td>\n",
              "      <td>0.009686</td>\n",
              "      <td>0.009649</td>\n",
              "      <td>NaN</td>\n",
              "      <td>...</td>\n",
              "      <td>0.004736</td>\n",
              "      <td>0.005854</td>\n",
              "      <td>0.001418</td>\n",
              "      <td>0.004332</td>\n",
              "      <td>0.004981</td>\n",
              "      <td>0.004191</td>\n",
              "      <td>0.002045</td>\n",
              "      <td>0.002270</td>\n",
              "      <td>0.005208</td>\n",
              "      <td>0.006339</td>\n",
              "    </tr>\n",
              "    <tr>\n",
              "      <th>_PSU</th>\n",
              "      <td>0.046555</td>\n",
              "      <td>1.000000</td>\n",
              "      <td>0.001632</td>\n",
              "      <td>0.033594</td>\n",
              "      <td>0.101536</td>\n",
              "      <td>0.106525</td>\n",
              "      <td>0.041926</td>\n",
              "      <td>0.065259</td>\n",
              "      <td>0.151604</td>\n",
              "      <td>NaN</td>\n",
              "      <td>...</td>\n",
              "      <td>0.028972</td>\n",
              "      <td>0.029333</td>\n",
              "      <td>0.041220</td>\n",
              "      <td>0.051861</td>\n",
              "      <td>0.030175</td>\n",
              "      <td>0.029469</td>\n",
              "      <td>0.045656</td>\n",
              "      <td>0.055641</td>\n",
              "      <td>0.045385</td>\n",
              "      <td>0.051695</td>\n",
              "    </tr>\n",
              "    <tr>\n",
              "      <th>CTELENM1</th>\n",
              "      <td>0.001078</td>\n",
              "      <td>0.001632</td>\n",
              "      <td>1.000000</td>\n",
              "      <td>0.000088</td>\n",
              "      <td>0.002128</td>\n",
              "      <td>0.005283</td>\n",
              "      <td>0.000163</td>\n",
              "      <td>0.000243</td>\n",
              "      <td>0.000558</td>\n",
              "      <td>NaN</td>\n",
              "      <td>...</td>\n",
              "      <td>0.000774</td>\n",
              "      <td>0.000850</td>\n",
              "      <td>0.000196</td>\n",
              "      <td>0.000119</td>\n",
              "      <td>0.000661</td>\n",
              "      <td>0.000989</td>\n",
              "      <td>0.000152</td>\n",
              "      <td>0.000183</td>\n",
              "      <td>0.000777</td>\n",
              "      <td>0.000855</td>\n",
              "    </tr>\n",
              "    <tr>\n",
              "      <th>LADULT1</th>\n",
              "      <td>0.052158</td>\n",
              "      <td>0.033594</td>\n",
              "      <td>0.000088</td>\n",
              "      <td>1.000000</td>\n",
              "      <td>0.016770</td>\n",
              "      <td>0.002614</td>\n",
              "      <td>0.006788</td>\n",
              "      <td>0.019986</td>\n",
              "      <td>0.000899</td>\n",
              "      <td>NaN</td>\n",
              "      <td>...</td>\n",
              "      <td>0.000685</td>\n",
              "      <td>0.000049</td>\n",
              "      <td>0.001684</td>\n",
              "      <td>0.003174</td>\n",
              "      <td>0.000573</td>\n",
              "      <td>0.000196</td>\n",
              "      <td>0.002927</td>\n",
              "      <td>0.003529</td>\n",
              "      <td>0.000561</td>\n",
              "      <td>0.001633</td>\n",
              "    </tr>\n",
              "    <tr>\n",
              "      <th>NUMADULT</th>\n",
              "      <td>0.002084</td>\n",
              "      <td>0.101536</td>\n",
              "      <td>0.002128</td>\n",
              "      <td>0.016770</td>\n",
              "      <td>1.000000</td>\n",
              "      <td>0.401737</td>\n",
              "      <td>0.436977</td>\n",
              "      <td>0.451937</td>\n",
              "      <td>0.181858</td>\n",
              "      <td>NaN</td>\n",
              "      <td>...</td>\n",
              "      <td>0.000459</td>\n",
              "      <td>0.011948</td>\n",
              "      <td>0.006895</td>\n",
              "      <td>0.004434</td>\n",
              "      <td>0.003819</td>\n",
              "      <td>0.014856</td>\n",
              "      <td>0.002909</td>\n",
              "      <td>0.000814</td>\n",
              "      <td>0.001611</td>\n",
              "      <td>0.010487</td>\n",
              "    </tr>\n",
              "    <tr>\n",
              "      <th>...</th>\n",
              "      <td>...</td>\n",
              "      <td>...</td>\n",
              "      <td>...</td>\n",
              "      <td>...</td>\n",
              "      <td>...</td>\n",
              "      <td>...</td>\n",
              "      <td>...</td>\n",
              "      <td>...</td>\n",
              "      <td>...</td>\n",
              "      <td>...</td>\n",
              "      <td>...</td>\n",
              "      <td>...</td>\n",
              "      <td>...</td>\n",
              "      <td>...</td>\n",
              "      <td>...</td>\n",
              "      <td>...</td>\n",
              "      <td>...</td>\n",
              "      <td>...</td>\n",
              "      <td>...</td>\n",
              "      <td>...</td>\n",
              "      <td>...</td>\n",
              "    </tr>\n",
              "    <tr>\n",
              "      <th>_VEGLT1A</th>\n",
              "      <td>0.004191</td>\n",
              "      <td>0.029469</td>\n",
              "      <td>0.000989</td>\n",
              "      <td>0.000196</td>\n",
              "      <td>0.014856</td>\n",
              "      <td>0.014157</td>\n",
              "      <td>0.000402</td>\n",
              "      <td>0.001771</td>\n",
              "      <td>0.006747</td>\n",
              "      <td>NaN</td>\n",
              "      <td>...</td>\n",
              "      <td>0.728413</td>\n",
              "      <td>0.991044</td>\n",
              "      <td>0.028169</td>\n",
              "      <td>0.049867</td>\n",
              "      <td>0.720994</td>\n",
              "      <td>1.000000</td>\n",
              "      <td>0.014025</td>\n",
              "      <td>0.039712</td>\n",
              "      <td>0.667010</td>\n",
              "      <td>0.882422</td>\n",
              "    </tr>\n",
              "    <tr>\n",
              "      <th>_FRT16A</th>\n",
              "      <td>0.002045</td>\n",
              "      <td>0.045656</td>\n",
              "      <td>0.000152</td>\n",
              "      <td>0.002927</td>\n",
              "      <td>0.002909</td>\n",
              "      <td>0.001722</td>\n",
              "      <td>0.001059</td>\n",
              "      <td>0.001003</td>\n",
              "      <td>0.000372</td>\n",
              "      <td>NaN</td>\n",
              "      <td>...</td>\n",
              "      <td>0.025780</td>\n",
              "      <td>0.011880</td>\n",
              "      <td>0.830494</td>\n",
              "      <td>0.368483</td>\n",
              "      <td>0.036330</td>\n",
              "      <td>0.014025</td>\n",
              "      <td>1.000000</td>\n",
              "      <td>0.398050</td>\n",
              "      <td>0.384194</td>\n",
              "      <td>0.168399</td>\n",
              "    </tr>\n",
              "    <tr>\n",
              "      <th>_VEG23A</th>\n",
              "      <td>0.002270</td>\n",
              "      <td>0.055641</td>\n",
              "      <td>0.000183</td>\n",
              "      <td>0.003529</td>\n",
              "      <td>0.000814</td>\n",
              "      <td>0.001938</td>\n",
              "      <td>0.000060</td>\n",
              "      <td>0.004032</td>\n",
              "      <td>0.000559</td>\n",
              "      <td>NaN</td>\n",
              "      <td>...</td>\n",
              "      <td>0.021542</td>\n",
              "      <td>0.034122</td>\n",
              "      <td>0.375026</td>\n",
              "      <td>0.827891</td>\n",
              "      <td>0.025886</td>\n",
              "      <td>0.039712</td>\n",
              "      <td>0.398050</td>\n",
              "      <td>1.000000</td>\n",
              "      <td>0.142510</td>\n",
              "      <td>0.419175</td>\n",
              "    </tr>\n",
              "    <tr>\n",
              "      <th>_FRUITE1</th>\n",
              "      <td>0.005208</td>\n",
              "      <td>0.045385</td>\n",
              "      <td>0.000777</td>\n",
              "      <td>0.000561</td>\n",
              "      <td>0.001611</td>\n",
              "      <td>0.001593</td>\n",
              "      <td>0.002999</td>\n",
              "      <td>0.001001</td>\n",
              "      <td>0.003337</td>\n",
              "      <td>NaN</td>\n",
              "      <td>...</td>\n",
              "      <td>0.913041</td>\n",
              "      <td>0.672463</td>\n",
              "      <td>0.303213</td>\n",
              "      <td>0.127255</td>\n",
              "      <td>0.892942</td>\n",
              "      <td>0.667010</td>\n",
              "      <td>0.384194</td>\n",
              "      <td>0.142510</td>\n",
              "      <td>1.000000</td>\n",
              "      <td>0.675043</td>\n",
              "    </tr>\n",
              "    <tr>\n",
              "      <th>_VEGETE1</th>\n",
              "      <td>0.006339</td>\n",
              "      <td>0.051695</td>\n",
              "      <td>0.000855</td>\n",
              "      <td>0.001633</td>\n",
              "      <td>0.010487</td>\n",
              "      <td>0.008454</td>\n",
              "      <td>0.000081</td>\n",
              "      <td>0.003877</td>\n",
              "      <td>0.004763</td>\n",
              "      <td>NaN</td>\n",
              "      <td>...</td>\n",
              "      <td>0.656520</td>\n",
              "      <td>0.893073</td>\n",
              "      <td>0.148513</td>\n",
              "      <td>0.338837</td>\n",
              "      <td>0.642941</td>\n",
              "      <td>0.882422</td>\n",
              "      <td>0.168399</td>\n",
              "      <td>0.419175</td>\n",
              "      <td>0.675043</td>\n",
              "      <td>1.000000</td>\n",
              "    </tr>\n",
              "  </tbody>\n",
              "</table>\n",
              "<p>199 rows × 199 columns</p>\n",
              "</div>\n",
              "      <button class=\"colab-df-convert\" onclick=\"convertToInteractive('df-176ad5eb-c736-4cfc-a139-6bef2f46af4a')\"\n",
              "              title=\"Convert this dataframe to an interactive table.\"\n",
              "              style=\"display:none;\">\n",
              "        \n",
              "  <svg xmlns=\"http://www.w3.org/2000/svg\" height=\"24px\"viewBox=\"0 0 24 24\"\n",
              "       width=\"24px\">\n",
              "    <path d=\"M0 0h24v24H0V0z\" fill=\"none\"/>\n",
              "    <path d=\"M18.56 5.44l.94 2.06.94-2.06 2.06-.94-2.06-.94-.94-2.06-.94 2.06-2.06.94zm-11 1L8.5 8.5l.94-2.06 2.06-.94-2.06-.94L8.5 2.5l-.94 2.06-2.06.94zm10 10l.94 2.06.94-2.06 2.06-.94-2.06-.94-.94-2.06-.94 2.06-2.06.94z\"/><path d=\"M17.41 7.96l-1.37-1.37c-.4-.4-.92-.59-1.43-.59-.52 0-1.04.2-1.43.59L10.3 9.45l-7.72 7.72c-.78.78-.78 2.05 0 2.83L4 21.41c.39.39.9.59 1.41.59.51 0 1.02-.2 1.41-.59l7.78-7.78 2.81-2.81c.8-.78.8-2.07 0-2.86zM5.41 20L4 18.59l7.72-7.72 1.47 1.35L5.41 20z\"/>\n",
              "  </svg>\n",
              "      </button>\n",
              "      \n",
              "  <style>\n",
              "    .colab-df-container {\n",
              "      display:flex;\n",
              "      flex-wrap:wrap;\n",
              "      gap: 12px;\n",
              "    }\n",
              "\n",
              "    .colab-df-convert {\n",
              "      background-color: #E8F0FE;\n",
              "      border: none;\n",
              "      border-radius: 50%;\n",
              "      cursor: pointer;\n",
              "      display: none;\n",
              "      fill: #1967D2;\n",
              "      height: 32px;\n",
              "      padding: 0 0 0 0;\n",
              "      width: 32px;\n",
              "    }\n",
              "\n",
              "    .colab-df-convert:hover {\n",
              "      background-color: #E2EBFA;\n",
              "      box-shadow: 0px 1px 2px rgba(60, 64, 67, 0.3), 0px 1px 3px 1px rgba(60, 64, 67, 0.15);\n",
              "      fill: #174EA6;\n",
              "    }\n",
              "\n",
              "    [theme=dark] .colab-df-convert {\n",
              "      background-color: #3B4455;\n",
              "      fill: #D2E3FC;\n",
              "    }\n",
              "\n",
              "    [theme=dark] .colab-df-convert:hover {\n",
              "      background-color: #434B5C;\n",
              "      box-shadow: 0px 1px 3px 1px rgba(0, 0, 0, 0.15);\n",
              "      filter: drop-shadow(0px 1px 2px rgba(0, 0, 0, 0.3));\n",
              "      fill: #FFFFFF;\n",
              "    }\n",
              "  </style>\n",
              "\n",
              "      <script>\n",
              "        const buttonEl =\n",
              "          document.querySelector('#df-176ad5eb-c736-4cfc-a139-6bef2f46af4a button.colab-df-convert');\n",
              "        buttonEl.style.display =\n",
              "          google.colab.kernel.accessAllowed ? 'block' : 'none';\n",
              "\n",
              "        async function convertToInteractive(key) {\n",
              "          const element = document.querySelector('#df-176ad5eb-c736-4cfc-a139-6bef2f46af4a');\n",
              "          const dataTable =\n",
              "            await google.colab.kernel.invokeFunction('convertToInteractive',\n",
              "                                                     [key], {});\n",
              "          if (!dataTable) return;\n",
              "\n",
              "          const docLinkHtml = 'Like what you see? Visit the ' +\n",
              "            '<a target=\"_blank\" href=https://colab.research.google.com/notebooks/data_table.ipynb>data table notebook</a>'\n",
              "            + ' to learn more about interactive tables.';\n",
              "          element.innerHTML = '';\n",
              "          dataTable['output_type'] = 'display_data';\n",
              "          await google.colab.output.renderOutput(dataTable, element);\n",
              "          const docLink = document.createElement('div');\n",
              "          docLink.innerHTML = docLinkHtml;\n",
              "          element.appendChild(docLink);\n",
              "        }\n",
              "      </script>\n",
              "    </div>\n",
              "  </div>\n",
              "  "
            ]
          },
          "metadata": {},
          "execution_count": 13
        }
      ]
    },
    {
      "cell_type": "markdown",
      "source": [
        "**Highly correlated columns in a dataset indicate that they are measuring similar or almost identical aspects of the data. This can cause issues in statistical analysis, such as multicollinearity, which can affect the accuracy of model predictions. Therefore, removing highly correlated columns can help to simplify the data, reduce noise and redundancy,and improve the accuracy and interpretability of the analysis results.**"
      ],
      "metadata": {
        "id": "s-9lv0dZqx0r"
      }
    },
    {
      "cell_type": "code",
      "source": [
        "# Initialize empty list for highly correlated columns\n",
        "high_corr_cols = []\n",
        "\n",
        "# Iterate over the upper triangle of the correlation matrix\n",
        "for i in range(1, corr_matrix.shape[0]-1):\n",
        "    for j in range(0,i):\n",
        "        # Check if correlation coefficient is greater than 0.85\n",
        "        if corr_matrix.iloc[i][j] > 0.85:\n",
        "            # Add column name to list of highly correlated columns\n",
        "            high_corr_cols.append(corr_matrix.columns[j])\n",
        "\n",
        "# Print list of highly correlated columns\n",
        "print(\"Highly correlated columns:\", high_corr_cols)\n"
      ],
      "metadata": {
        "colab": {
          "base_uri": "https://localhost:8080/"
        },
        "id": "g_Dfj9qZzqlP",
        "outputId": "e0d46298-3079-4c77-89fd-e2c61e52a45d"
      },
      "execution_count": null,
      "outputs": [
        {
          "output_type": "stream",
          "name": "stdout",
          "text": [
            "Highly correlated columns: ['ACETOUCH', 'ACETTHEM', '_STATE', '_STRWT', '_CRACE1', '_STRWT', '_WT2RAKE', 'EXERANY2', 'LMTJOIN3', '_PRACE1', '_RACE', '_RACEG21', '_IMPRACE', '_RACE', 'SEXVAR', '_HCVU652', '_AGEG5YR', '_AGEG5YR', '_AGE80', 'HTIN4', 'WTKG3', 'EDUCA', '_RFSMOK3', 'DRNKANY5', 'DRNKANY5', 'DROCDY3_', 'DRNKANY5', 'DROCDY3_', '_RFBING5', 'DRNKANY5', 'DROCDY3_', '_RFBING5', '_DRNKWK1', 'HIVTST7', '_MISFRT1', '_MISFRT1', '_MISVEG1', 'FRUTDA2_', 'VEGEDA2_', '_MISFRT1', '_FRTRES1', '_MISVEG1', '_VEGRES1', '_MISFRT1', '_FRTRES1', '_FRTLT1A']\n"
          ]
        }
      ]
    },
    {
      "cell_type": "code",
      "source": [
        "cancer_df = cancer_df.drop(high_corr_cols,axis = 1)\n"
      ],
      "metadata": {
        "id": "toFbP5vUz0RA"
      },
      "execution_count": null,
      "outputs": []
    },
    {
      "cell_type": "code",
      "source": [
        "print(\"shape of data after removing the columns with high coorelation\")\n",
        "cancer_df.shape"
      ],
      "metadata": {
        "colab": {
          "base_uri": "https://localhost:8080/"
        },
        "id": "8iKKvjC7ptyL",
        "outputId": "8438593d-0649-4036-9901-4c851a13b024"
      },
      "execution_count": null,
      "outputs": [
        {
          "output_type": "stream",
          "name": "stdout",
          "text": [
            "shape of data after removing the columns with high coorelation\n"
          ]
        },
        {
          "output_type": "execute_result",
          "data": {
            "text/plain": [
              "(438291, 167)"
            ]
          },
          "metadata": {},
          "execution_count": 16
        }
      ]
    },
    {
      "cell_type": "code",
      "source": [
        "# Now we are inserting the labels columns back to the dataframe\n",
        "cancer_df.insert(len(cancer_df.columns), 'Cancerlabels', skin_other_count)"
      ],
      "metadata": {
        "colab": {
          "base_uri": "https://localhost:8080/"
        },
        "id": "EAncU21rqWRn",
        "outputId": "c828a27f-3ad6-4448-a0f1-f27e1d95081d"
      },
      "execution_count": null,
      "outputs": [
        {
          "output_type": "stream",
          "name": "stderr",
          "text": [
            "<ipython-input-17-11c2e7bdc0e6>:2: PerformanceWarning: DataFrame is highly fragmented.  This is usually the result of calling `frame.insert` many times, which has poor performance.  Consider joining all columns at once using pd.concat(axis=1) instead. To get a de-fragmented frame, use `newframe = frame.copy()`\n",
            "  cancer_df.insert(len(cancer_df.columns), 'Cancerlabels', skin_other_count)\n"
          ]
        }
      ]
    },
    {
      "cell_type": "code",
      "source": [
        "cancer_df.shape"
      ],
      "metadata": {
        "colab": {
          "base_uri": "https://localhost:8080/"
        },
        "id": "WjxpaaMBqgxi",
        "outputId": "6769f5cd-82e4-47ed-f2bb-8fda54c61c27"
      },
      "execution_count": null,
      "outputs": [
        {
          "output_type": "execute_result",
          "data": {
            "text/plain": [
              "(438291, 168)"
            ]
          },
          "metadata": {},
          "execution_count": 18
        }
      ]
    },
    {
      "cell_type": "markdown",
      "source": [
        "## DATA VISUALIZATION"
      ],
      "metadata": {
        "id": "HRYMY2DHqpZY"
      }
    },
    {
      "cell_type": "markdown",
      "source": [
        "## Relationship between health condition and cancer\n",
        "The data provided has the chronic health condition criteria which will help us to know how chronic health condition is related to cancer\n",
        "Field name for chronic health condition - HAVARTH5\n"
      ],
      "metadata": {
        "id": "vmnXxomYrJgl"
      }
    },
    {
      "cell_type": "code",
      "source": [
        "# For data visualization we copy the data frame into a new data frame\n",
        "\n",
        "data_visualization_cancer = cancer_df.copy()"
      ],
      "metadata": {
        "id": "Pn6b8pUJri3r"
      },
      "execution_count": null,
      "outputs": []
    },
    {
      "cell_type": "markdown",
      "source": [
        "By replacing the values 2, 7 and 9 with 0 and NaN, we are essentially cleaning and preparing the data for further analysis.\n",
        "\n",
        "Replacing 2 with 0 can be useful for the binary representation of the data where 0 represents 'No' and 1 represents 'Yes'.\n",
        "\n",
        "Replacing 7 and 9 with NaN is to handle missing values in the data. It helps in avoiding any bias in the analysis that might be introduced due to missing data."
      ],
      "metadata": {
        "id": "0XSou1mAsT8t"
      }
    },
    {
      "cell_type": "code",
      "source": [
        "# Converting the values\n",
        "\n",
        "#data_visualization_cancer['HAVARTH5'].replace(2, 0, inplace=True)\n",
        "#data_visualization_cancer['HAVARTH5'].replace(7, np.nan, inplace=True)\n",
        "#data_visualization_cancer['HAVARTH5'].replace(9, np.nan, inplace=True)\n",
        "\n",
        "# Replace all occurrences of 2 in the 'HAVARTH5' column with 0, and all occurrences of 7 and 9 with NaN\n",
        "data_visualization_cancer['HAVARTH5'].replace({2: 0, 7: np.nan, 9: np.nan}, inplace=True)"
      ],
      "metadata": {
        "id": "NECnqgvnr70A"
      },
      "execution_count": null,
      "outputs": []
    },
    {
      "cell_type": "code",
      "source": [
        "#plt.figure(figsize=(15,20))\n",
        "#data_visualization = data_visualization_cancer.groupby(['HAVARTH5','Cancerlabels']).size()\n",
        "\n",
        "\n",
        "# Create a new figure and axis object with a size of 15x20\n",
        "fig, ax = plt.subplots(figsize=(15, 20))\n",
        "\n",
        "# Group the 'finalizedData' DataFrame by 'TOLDHI3' and 'CVDINFR4' columns, count the number of occurrences,\n",
        "# and plot the result as a bar chart using the 'ax' object\n",
        "\n",
        "data_visualization = data_visualization_cancer.groupby(['HAVARTH5','Cancerlabels']).size()\n",
        "data_visualization.plot(kind='bar', ax=ax)"
      ],
      "metadata": {
        "colab": {
          "base_uri": "https://localhost:8080/",
          "height": 1000
        },
        "id": "wJkbI7v7tJOw",
        "outputId": "19f34757-96c2-4a10-89bd-0293071ed775"
      },
      "execution_count": null,
      "outputs": [
        {
          "output_type": "execute_result",
          "data": {
            "text/plain": [
              "<Axes: xlabel='HAVARTH5,Cancerlabels'>"
            ]
          },
          "metadata": {},
          "execution_count": 21
        },
        {
          "output_type": "display_data",
          "data": {
            "text/plain": [
              "<Figure size 1500x2000 with 1 Axes>"
            ],
            "image/png": "[encoded data removed]"
          },
          "metadata": {}
        }
      ]
    },
    {
      "cell_type": "code",
      "source": [
        "ploting_data = data_visualization.unstack()\n",
        "plot_transpose = ploting_data.transpose()\n",
        "plot_split = plot_transpose.div(plot_transpose.sum())\n",
        "plot_percent = plot_split.transpose()\n"
      ],
      "metadata": {
        "id": "FgdeKsIovXJx"
      },
      "execution_count": null,
      "outputs": []
    },
    {
      "cell_type": "code",
      "source": [
        "plot_percent.plot(kind='bar',stacked=True).legend([\"No Cancer\", \"Cancer\"], loc='upper left', bbox_to_anchor=(1,1), ncol=1)\n",
        "positions = (0, 1)\n",
        "labels = (\"No\", \"Yes\")\n",
        "plt.xticks(positions, labels)\n",
        "plt.xlabel('Chronic diseases')\n",
        "plt.ylabel('Count %')\n",
        "plt.title(\"cancer cases based on other chronic diseases\")\n",
        "\n",
        "plt.show()"
      ],
      "metadata": {
        "colab": {
          "base_uri": "https://localhost:8080/",
          "height": 480
        },
        "id": "K2ECGL7R6aiu",
        "outputId": "a0f1b74d-dcf5-4983-fdd4-97606a4a204a"
      },
      "execution_count": null,
      "outputs": [
        {
          "output_type": "display_data",
          "data": {
            "text/plain": [
              "<Figure size 640x480 with 1 Axes>"
            ],
            "image/png": "[encoded data removed]"
          },
          "metadata": {}
        }
      ]
    },
    {
      "cell_type": "markdown",
      "source": [
        "# We can plot between the gender and cancer"
      ],
      "metadata": {
        "id": "c1bB7PEAGPsL"
      }
    },
    {
      "cell_type": "code",
      "source": [
        "data_visualization_gender_cancer = cancer_df.copy()\n",
        "count_male = len(data_visualization_gender_cancer[data_visualization_gender_cancer['CELLSEX']==1])\n",
        "count_female = len(data_visualization_gender_cancer[data_visualization_gender_cancer['CELLSEX']==2])"
      ],
      "metadata": {
        "id": "I2157MBSGfCC"
      },
      "execution_count": null,
      "outputs": []
    },
    {
      "cell_type": "code",
      "source": [
        "gender_counts = {'Male': count_male, 'Female': count_female}\n",
        "plt.bar(gender_counts.keys(), gender_counts.values())\n",
        "plt.xlabel('Gender')\n",
        "plt.ylabel('Count')\n",
        "plt.title('Counts of Males and Females')\n",
        "plt.show()"
      ],
      "metadata": {
        "colab": {
          "base_uri": "https://localhost:8080/",
          "height": 472
        },
        "id": "5sQU_uMGGY_P",
        "outputId": "9d2909c7-5734-4e42-d936-2d1449ce7514"
      },
      "execution_count": null,
      "outputs": [
        {
          "output_type": "display_data",
          "data": {
            "text/plain": [
              "<Figure size 640x480 with 1 Axes>"
            ],
            "image/png": "[encoded data removed]"
          },
          "metadata": {}
        }
      ]
    },
    {
      "cell_type": "markdown",
      "source": [
        "## CLASSIFICATION"
      ],
      "metadata": {
        "id": "2Q7mlrOs2a6z"
      }
    },
    {
      "cell_type": "code",
      "source": [
        "cancer_df.head()"
      ],
      "metadata": {
        "colab": {
          "base_uri": "https://localhost:8080/",
          "height": 386
        },
        "id": "D8nrp7zvHFd-",
        "outputId": "fd80f619-94c5-4061-fdc8-ced8cb7bde75"
      },
      "execution_count": null,
      "outputs": [
        {
          "output_type": "execute_result",
          "data": {
            "text/plain": [
              "           _PSU  CTELENM1  LADULT1  NUMADULT  LANDSEX  NUMMEN  NUMWOMEN  \\\n",
              "0  2.021000e+09       1.0      1.0       2.0      2.0     1.0       1.0   \n",
              "1  2.021000e+09       1.0      1.0       2.0      2.0     1.0       1.0   \n",
              "2  2.021000e+09       1.0      1.0       2.0      2.0     1.0       1.0   \n",
              "3  2.021000e+09       1.0      1.0       2.0      2.0     1.0       1.0   \n",
              "4  2.021000e+09       1.0      1.0       2.0      2.0     1.0       1.0   \n",
              "\n",
              "   RESPSLCT  SAFETIME  CTELNUM1  ...      FRNCHDA_  POTADA1_  _FRUTSU1  \\\n",
              "0       2.0       1.0       1.0  ...  4.300000e+01      14.0     100.0   \n",
              "1       2.0       1.0       1.0  ...  5.397605e-79      14.0     100.0   \n",
              "2       2.0       1.0       1.0  ...  1.400000e+01      14.0     100.0   \n",
              "3       2.0       1.0       1.0  ...  5.700000e+01      27.0     114.0   \n",
              "4       1.0       1.0       1.0  ...  2.900000e+01      29.0     100.0   \n",
              "\n",
              "   _VEGESU1  _VEGLT1A  _FRT16A  _VEG23A      _FRUITE1      _VEGETE1  \\\n",
              "0     214.0       1.0      1.0      1.0  5.397605e-79  5.397605e-79   \n",
              "1     128.0       1.0      1.0      1.0  5.397605e-79  5.397605e-79   \n",
              "2      71.0       2.0      1.0      1.0  5.397605e-79  5.397605e-79   \n",
              "3     165.0       1.0      1.0      1.0  5.397605e-79  5.397605e-79   \n",
              "4     258.0       1.0      1.0      1.0  5.397605e-79  5.397605e-79   \n",
              "\n",
              "   Cancerlabels  \n",
              "0             0  \n",
              "1             0  \n",
              "2             0  \n",
              "3             0  \n",
              "4             0  \n",
              "\n",
              "[5 rows x 168 columns]"
            ],
            "text/html": [
              "\n",
              "  <div id=\"df-65e697a8-52ef-4213-9fd3-d7989a789f61\">\n",
              "    <div class=\"colab-df-container\">\n",
              "      <div>\n",
              "<style scoped>\n",
              "    .dataframe tbody tr th:only-of-type {\n",
              "        vertical-align: middle;\n",
              "    }\n",
              "\n",
              "    .dataframe tbody tr th {\n",
              "        vertical-align: top;\n",
              "    }\n",
              "\n",
              "    .dataframe thead th {\n",
              "        text-align: right;\n",
              "    }\n",
              "</style>\n",
              "<table border=\"1\" class=\"dataframe\">\n",
              "  <thead>\n",
              "    <tr style=\"text-align: right;\">\n",
              "      <th></th>\n",
              "      <th>_PSU</th>\n",
              "      <th>CTELENM1</th>\n",
              "      <th>LADULT1</th>\n",
              "      <th>NUMADULT</th>\n",
              "      <th>LANDSEX</th>\n",
              "      <th>NUMMEN</th>\n",
              "      <th>NUMWOMEN</th>\n",
              "      <th>RESPSLCT</th>\n",
              "      <th>SAFETIME</th>\n",
              "      <th>CTELNUM1</th>\n",
              "      <th>...</th>\n",
              "      <th>FRNCHDA_</th>\n",
              "      <th>POTADA1_</th>\n",
              "      <th>_FRUTSU1</th>\n",
              "      <th>_VEGESU1</th>\n",
              "      <th>_VEGLT1A</th>\n",
              "      <th>_FRT16A</th>\n",
              "      <th>_VEG23A</th>\n",
              "      <th>_FRUITE1</th>\n",
              "      <th>_VEGETE1</th>\n",
              "      <th>Cancerlabels</th>\n",
              "    </tr>\n",
              "  </thead>\n",
              "  <tbody>\n",
              "    <tr>\n",
              "      <th>0</th>\n",
              "      <td>2.021000e+09</td>\n",
              "      <td>1.0</td>\n",
              "      <td>1.0</td>\n",
              "      <td>2.0</td>\n",
              "      <td>2.0</td>\n",
              "      <td>1.0</td>\n",
              "      <td>1.0</td>\n",
              "      <td>2.0</td>\n",
              "      <td>1.0</td>\n",
              "      <td>1.0</td>\n",
              "      <td>...</td>\n",
              "      <td>4.300000e+01</td>\n",
              "      <td>14.0</td>\n",
              "      <td>100.0</td>\n",
              "      <td>214.0</td>\n",
              "      <td>1.0</td>\n",
              "      <td>1.0</td>\n",
              "      <td>1.0</td>\n",
              "      <td>5.397605e-79</td>\n",
              "      <td>5.397605e-79</td>\n",
              "      <td>0</td>\n",
              "    </tr>\n",
              "    <tr>\n",
              "      <th>1</th>\n",
              "      <td>2.021000e+09</td>\n",
              "      <td>1.0</td>\n",
              "      <td>1.0</td>\n",
              "      <td>2.0</td>\n",
              "      <td>2.0</td>\n",
              "      <td>1.0</td>\n",
              "      <td>1.0</td>\n",
              "      <td>2.0</td>\n",
              "      <td>1.0</td>\n",
              "      <td>1.0</td>\n",
              "      <td>...</td>\n",
              "      <td>5.397605e-79</td>\n",
              "      <td>14.0</td>\n",
              "      <td>100.0</td>\n",
              "      <td>128.0</td>\n",
              "      <td>1.0</td>\n",
              "      <td>1.0</td>\n",
              "      <td>1.0</td>\n",
              "      <td>5.397605e-79</td>\n",
              "      <td>5.397605e-79</td>\n",
              "      <td>0</td>\n",
              "    </tr>\n",
              "    <tr>\n",
              "      <th>2</th>\n",
              "      <td>2.021000e+09</td>\n",
              "      <td>1.0</td>\n",
              "      <td>1.0</td>\n",
              "      <td>2.0</td>\n",
              "      <td>2.0</td>\n",
              "      <td>1.0</td>\n",
              "      <td>1.0</td>\n",
              "      <td>2.0</td>\n",
              "      <td>1.0</td>\n",
              "      <td>1.0</td>\n",
              "      <td>...</td>\n",
              "      <td>1.400000e+01</td>\n",
              "      <td>14.0</td>\n",
              "      <td>100.0</td>\n",
              "      <td>71.0</td>\n",
              "      <td>2.0</td>\n",
              "      <td>1.0</td>\n",
              "      <td>1.0</td>\n",
              "      <td>5.397605e-79</td>\n",
              "      <td>5.397605e-79</td>\n",
              "      <td>0</td>\n",
              "    </tr>\n",
              "    <tr>\n",
              "      <th>3</th>\n",
              "      <td>2.021000e+09</td>\n",
              "      <td>1.0</td>\n",
              "      <td>1.0</td>\n",
              "      <td>2.0</td>\n",
              "      <td>2.0</td>\n",
              "      <td>1.0</td>\n",
              "      <td>1.0</td>\n",
              "      <td>2.0</td>\n",
              "      <td>1.0</td>\n",
              "      <td>1.0</td>\n",
              "      <td>...</td>\n",
              "      <td>5.700000e+01</td>\n",
              "      <td>27.0</td>\n",
              "      <td>114.0</td>\n",
              "      <td>165.0</td>\n",
              "      <td>1.0</td>\n",
              "      <td>1.0</td>\n",
              "      <td>1.0</td>\n",
              "      <td>5.397605e-79</td>\n",
              "      <td>5.397605e-79</td>\n",
              "      <td>0</td>\n",
              "    </tr>\n",
              "    <tr>\n",
              "      <th>4</th>\n",
              "      <td>2.021000e+09</td>\n",
              "      <td>1.0</td>\n",
              "      <td>1.0</td>\n",
              "      <td>2.0</td>\n",
              "      <td>2.0</td>\n",
              "      <td>1.0</td>\n",
              "      <td>1.0</td>\n",
              "      <td>1.0</td>\n",
              "      <td>1.0</td>\n",
              "      <td>1.0</td>\n",
              "      <td>...</td>\n",
              "      <td>2.900000e+01</td>\n",
              "      <td>29.0</td>\n",
              "      <td>100.0</td>\n",
              "      <td>258.0</td>\n",
              "      <td>1.0</td>\n",
              "      <td>1.0</td>\n",
              "      <td>1.0</td>\n",
              "      <td>5.397605e-79</td>\n",
              "      <td>5.397605e-79</td>\n",
              "      <td>0</td>\n",
              "    </tr>\n",
              "  </tbody>\n",
              "</table>\n",
              "<p>5 rows × 168 columns</p>\n",
              "</div>\n",
              "      <button class=\"colab-df-convert\" onclick=\"convertToInteractive('df-65e697a8-52ef-4213-9fd3-d7989a789f61')\"\n",
              "              title=\"Convert this dataframe to an interactive table.\"\n",
              "              style=\"display:none;\">\n",
              "        \n",
              "  <svg xmlns=\"http://www.w3.org/2000/svg\" height=\"24px\"viewBox=\"0 0 24 24\"\n",
              "       width=\"24px\">\n",
              "    <path d=\"M0 0h24v24H0V0z\" fill=\"none\"/>\n",
              "    <path d=\"M18.56 5.44l.94 2.06.94-2.06 2.06-.94-2.06-.94-.94-2.06-.94 2.06-2.06.94zm-11 1L8.5 8.5l.94-2.06 2.06-.94-2.06-.94L8.5 2.5l-.94 2.06-2.06.94zm10 10l.94 2.06.94-2.06 2.06-.94-2.06-.94-.94-2.06-.94 2.06-2.06.94z\"/><path d=\"M17.41 7.96l-1.37-1.37c-.4-.4-.92-.59-1.43-.59-.52 0-1.04.2-1.43.59L10.3 9.45l-7.72 7.72c-.78.78-.78 2.05 0 2.83L4 21.41c.39.39.9.59 1.41.59.51 0 1.02-.2 1.41-.59l7.78-7.78 2.81-2.81c.8-.78.8-2.07 0-2.86zM5.41 20L4 18.59l7.72-7.72 1.47 1.35L5.41 20z\"/>\n",
              "  </svg>\n",
              "      </button>\n",
              "      \n",
              "  <style>\n",
              "    .colab-df-container {\n",
              "      display:flex;\n",
              "      flex-wrap:wrap;\n",
              "      gap: 12px;\n",
              "    }\n",
              "\n",
              "    .colab-df-convert {\n",
              "      background-color: #E8F0FE;\n",
              "      border: none;\n",
              "      border-radius: 50%;\n",
              "      cursor: pointer;\n",
              "      display: none;\n",
              "      fill: #1967D2;\n",
              "      height: 32px;\n",
              "      padding: 0 0 0 0;\n",
              "      width: 32px;\n",
              "    }\n",
              "\n",
              "    .colab-df-convert:hover {\n",
              "      background-color: #E2EBFA;\n",
              "      box-shadow: 0px 1px 2px rgba(60, 64, 67, 0.3), 0px 1px 3px 1px rgba(60, 64, 67, 0.15);\n",
              "      fill: #174EA6;\n",
              "    }\n",
              "\n",
              "    [theme=dark] .colab-df-convert {\n",
              "      background-color: #3B4455;\n",
              "      fill: #D2E3FC;\n",
              "    }\n",
              "\n",
              "    [theme=dark] .colab-df-convert:hover {\n",
              "      background-color: #434B5C;\n",
              "      box-shadow: 0px 1px 3px 1px rgba(0, 0, 0, 0.15);\n",
              "      filter: drop-shadow(0px 1px 2px rgba(0, 0, 0, 0.3));\n",
              "      fill: #FFFFFF;\n",
              "    }\n",
              "  </style>\n",
              "\n",
              "      <script>\n",
              "        const buttonEl =\n",
              "          document.querySelector('#df-65e697a8-52ef-4213-9fd3-d7989a789f61 button.colab-df-convert');\n",
              "        buttonEl.style.display =\n",
              "          google.colab.kernel.accessAllowed ? 'block' : 'none';\n",
              "\n",
              "        async function convertToInteractive(key) {\n",
              "          const element = document.querySelector('#df-65e697a8-52ef-4213-9fd3-d7989a789f61');\n",
              "          const dataTable =\n",
              "            await google.colab.kernel.invokeFunction('convertToInteractive',\n",
              "                                                     [key], {});\n",
              "          if (!dataTable) return;\n",
              "\n",
              "          const docLinkHtml = 'Like what you see? Visit the ' +\n",
              "            '<a target=\"_blank\" href=https://colab.research.google.com/notebooks/data_table.ipynb>data table notebook</a>'\n",
              "            + ' to learn more about interactive tables.';\n",
              "          element.innerHTML = '';\n",
              "          dataTable['output_type'] = 'display_data';\n",
              "          await google.colab.output.renderOutput(dataTable, element);\n",
              "          const docLink = document.createElement('div');\n",
              "          docLink.innerHTML = docLinkHtml;\n",
              "          element.appendChild(docLink);\n",
              "        }\n",
              "      </script>\n",
              "    </div>\n",
              "  </div>\n",
              "  "
            ]
          },
          "metadata": {},
          "execution_count": 26
        }
      ]
    },
    {
      "cell_type": "code",
      "source": [
        "#We will Seperate the labels from the dataset\n",
        "\n",
        "cancer_label = cancer_df['Cancerlabels']\n",
        "\n",
        "#After seperating we will drop the Cancerlabel\n",
        "\n",
        "cancer_df.drop(['Cancerlabels'], axis=1, inplace=True)"
      ],
      "metadata": {
        "id": "XdTZ6Trf_f_D"
      },
      "execution_count": null,
      "outputs": []
    },
    {
      "cell_type": "code",
      "source": [
        "cancer_positive = (cancer_label == 0).sum()\n",
        "cancer_negative = (cancer_label == 1).sum()\n",
        "\n",
        "# Actual count of cancer labels below\n",
        "print(\"Cancer positive cases\",cancer_positive)\n",
        "print(\"Cancer negative cases\",cancer_negative)\n"
      ],
      "metadata": {
        "colab": {
          "base_uri": "https://localhost:8080/"
        },
        "id": "cqnAdNsT_tIz",
        "outputId": "9be749db-ffda-448d-a48c-95af3448a13b"
      },
      "execution_count": null,
      "outputs": [
        {
          "output_type": "stream",
          "name": "stdout",
          "text": [
            "Cancer positive cases 364506\n",
            "Cancer negative cases 73785\n"
          ]
        }
      ]
    },
    {
      "cell_type": "markdown",
      "source": [
        "#Scaling the features using standardization"
      ],
      "metadata": {
        "id": "zHli6CZSBH4-"
      }
    },
    {
      "cell_type": "code",
      "source": [
        "from sklearn.preprocessing import StandardScaler\n",
        "\n",
        "# Create a StandardScaler object\n",
        "scaler = StandardScaler()\n",
        "\n",
        "# Fit the scaler to the data and transform the data\n",
        "normalized_data = scaler.fit_transform(cancer_df)\n"
      ],
      "metadata": {
        "id": "cQt4H107BGm_"
      },
      "execution_count": null,
      "outputs": []
    },
    {
      "cell_type": "code",
      "source": [
        "#To check whether the data is standardized\n",
        "\n",
        "print(np.mean(normalized_data, axis=0))\n",
        "print(np.std(normalized_data, axis=0))\n"
      ],
      "metadata": {
        "colab": {
          "base_uri": "https://localhost:8080/"
        },
        "id": "INs2OH7LBx_l",
        "outputId": "6de09cff-338c-4d05-c411-7098c67f5af3"
      },
      "execution_count": null,
      "outputs": [
        {
          "output_type": "stream",
          "name": "stdout",
          "text": [
            "[-1.74361060e-12  8.40694044e-15 -2.33285876e-16  1.94539994e-16\n",
            " -1.18020929e-16 -7.09422510e-17 -5.33169276e-16 -4.93872197e-16\n",
            "  0.00000000e+00  0.00000000e+00  0.00000000e+00  0.00000000e+00\n",
            "  2.66779178e-16 -1.24304571e-15  4.35769585e-16  4.39660385e-17\n",
            "  3.20342523e-17 -1.72492128e-17 -5.44711982e-17  2.15031539e-16\n",
            "  2.10103193e-17 -4.85053050e-17 -5.12612883e-17  7.06180176e-17\n",
            " -6.80889977e-17 -2.25293524e-16  7.63893708e-17 -8.78023837e-17\n",
            " -7.81726541e-17 -9.62972968e-18 -6.96453177e-17 -6.07937480e-18\n",
            " -1.47720702e-16 -1.58209650e-16  1.16983383e-16 -1.75345381e-16\n",
            "  7.89183907e-17 -1.92724287e-16  8.79645004e-17 -1.50184875e-16\n",
            "  1.89611647e-16 -2.41099899e-16  7.62596775e-17 -7.85293107e-17\n",
            " -1.04792210e-16  3.39796522e-17 -7.26282642e-17  8.30037306e-18\n",
            " -1.53167822e-16  2.68465191e-17 -1.07580616e-16  4.56520518e-17\n",
            " -3.18948319e-16  2.20478659e-17 -3.20342523e-17  2.03618527e-17\n",
            "  1.84942687e-16  1.85461460e-17  1.35918609e-16 -5.10991716e-17\n",
            "  1.70870961e-16  3.34608789e-17 -1.01679570e-16 -4.84015504e-16\n",
            " -7.98910907e-17 -2.02321593e-17 -1.50444262e-17  2.09325033e-16\n",
            " -2.26963326e-19  9.96044767e-17 -8.44952038e-17  4.15018653e-18\n",
            "  9.44167435e-17  1.23338356e-16  7.72972241e-17 -5.31742649e-17\n",
            "  9.45464368e-17  1.13611356e-16 -1.16010683e-16 -6.79593044e-17\n",
            "  1.09201783e-16 -1.40068795e-16  1.81570661e-16 -2.14512766e-16\n",
            "  2.22424059e-16 -6.22527979e-18  4.08533986e-17 -1.25413449e-16\n",
            "  5.42539619e-16 -7.09422510e-17 -4.07237053e-17  1.17631849e-16\n",
            "  1.70417034e-16  2.80137591e-17 -2.09325033e-16 -2.98164963e-16\n",
            " -3.47707815e-16 -6.35237925e-16 -1.77517744e-16 -1.09850250e-16\n",
            " -1.25283756e-16  1.32027809e-16 -3.52765855e-17 -1.52259968e-16\n",
            " -1.78847101e-16 -1.77031394e-16 -1.39550022e-16  3.73516788e-17\n",
            " -7.26282642e-17 -3.77666974e-16  4.67949743e-17 -9.54542901e-17\n",
            " -1.06867303e-16 -3.14895403e-16  4.09830920e-17 -1.13870743e-16\n",
            " -1.81570661e-18 -2.38635725e-17 -1.87847818e-15 -7.31470376e-17\n",
            "  3.09967056e-17 -2.51605058e-17  7.66487574e-17 -3.13857856e-17\n",
            "  7.08125576e-17  2.01802820e-16 -9.58433701e-17  4.11127853e-17\n",
            " -1.20874183e-16 -6.07613246e-17  6.76026477e-17 -1.07904850e-16\n",
            "  6.88671577e-17 -2.14253380e-16 -7.57409041e-17  2.52642605e-16\n",
            "  2.75922557e-17 -2.58349111e-16  2.07509326e-17  1.05829756e-16\n",
            " -1.57707088e-16  1.25802529e-16  1.14389516e-16 -4.08793373e-16\n",
            " -1.98819873e-16 -1.94539994e-16  2.72355991e-17  4.15018653e-18\n",
            " -8.04098640e-18 -5.70650648e-17 -6.74405311e-17 -2.25666392e-17\n",
            " -6.17340246e-17  1.34881062e-17  1.63413595e-17  1.33584129e-16\n",
            " -4.24745652e-18 -1.29693329e-17 -1.29693329e-17 -6.87374644e-18\n",
            " -1.08942396e-17 -1.50444262e-17 -2.77543724e-17 -5.74022674e-16\n",
            "  4.86609370e-16 -7.88535440e-17 -8.30037306e-18]\n",
            "[1. 1. 1. 1. 1. 1. 1. 1. 0. 0. 0. 0. 1. 1. 1. 1. 1. 1. 1. 1. 1. 1. 1. 1.\n",
            " 1. 1. 1. 1. 1. 1. 1. 1. 1. 1. 1. 1. 1. 1. 1. 1. 1. 1. 1. 1. 1. 1. 1. 1.\n",
            " 1. 1. 1. 1. 1. 1. 1. 1. 1. 1. 1. 1. 1. 1. 1. 1. 1. 1. 1. 1. 1. 1. 1. 1.\n",
            " 1. 1. 1. 1. 1. 1. 1. 1. 1. 1. 1. 1. 1. 1. 1. 1. 1. 1. 1. 1. 1. 1. 1. 1.\n",
            " 1. 1. 1. 1. 1. 1. 1. 1. 1. 1. 1. 1. 1. 1. 1. 1. 1. 1. 1. 1. 1. 1. 1. 1.\n",
            " 1. 1. 1. 1. 1. 1. 1. 1. 1. 1. 1. 1. 1. 1. 1. 1. 1. 1. 1. 1. 1. 1. 1. 1.\n",
            " 1. 1. 1. 1. 1. 1. 1. 1. 1. 1. 1. 1. 1. 1. 1. 1. 1. 1. 1. 1. 1. 1. 1.]\n"
          ]
        }
      ]
    },
    {
      "cell_type": "code",
      "source": [
        "from sklearn.model_selection import train_test_split\n",
        "\n",
        "X_train, X_test, y_train, y_test = train_test_split(normalized_data, cancer_label, test_size=0.3, random_state=42)\n"
      ],
      "metadata": {
        "id": "7y8CceOJCABB"
      },
      "execution_count": null,
      "outputs": []
    },
    {
      "cell_type": "markdown",
      "source": [
        "#LOGISTIC REGRESSION"
      ],
      "metadata": {
        "id": "Af-tUPePDwuE"
      }
    },
    {
      "cell_type": "code",
      "source": [
        "\n",
        "parameters = {'max_iter':[100, 150]}\n",
        "\n",
        "model = LogisticRegression(class_weight=\"balanced\")\n",
        "LR = GridSearchCV(model, parameters, scoring='recall')\n",
        "LR.fit(X_train, y_train)\n",
        "\n",
        "y_true, y_pred = y_test, LR.predict(X_test)\n",
        "print(classification_report(y_true, y_pred))"
      ],
      "metadata": {
        "colab": {
          "base_uri": "https://localhost:8080/"
        },
        "id": "l0K3E-53DNYA",
        "outputId": "9050e214-e0d2-4266-8154-39690fee3d33"
      },
      "execution_count": null,
      "outputs": [
        {
          "output_type": "stream",
          "name": "stderr",
          "text": [
            "/usr/local/lib/python3.10/dist-packages/sklearn/linear_model/_logistic.py:458: ConvergenceWarning: lbfgs failed to converge (status=1):\n",
            "STOP: TOTAL NO. of ITERATIONS REACHED LIMIT.\n",
            "\n",
            "Increase the number of iterations (max_iter) or scale the data as shown in:\n",
            "    https://scikit-learn.org/stable/modules/preprocessing.html\n",
            "Please also refer to the documentation for alternative solver options:\n",
            "    https://scikit-learn.org/stable/modules/linear_model.html#logistic-regression\n",
            "  n_iter_i = _check_optimize_result(\n",
            "/usr/local/lib/python3.10/dist-packages/sklearn/linear_model/_logistic.py:458: ConvergenceWarning: lbfgs failed to converge (status=1):\n",
            "STOP: TOTAL NO. of ITERATIONS REACHED LIMIT.\n",
            "\n",
            "Increase the number of iterations (max_iter) or scale the data as shown in:\n",
            "    https://scikit-learn.org/stable/modules/preprocessing.html\n",
            "Please also refer to the documentation for alternative solver options:\n",
            "    https://scikit-learn.org/stable/modules/linear_model.html#logistic-regression\n",
            "  n_iter_i = _check_optimize_result(\n",
            "/usr/local/lib/python3.10/dist-packages/sklearn/linear_model/_logistic.py:458: ConvergenceWarning: lbfgs failed to converge (status=1):\n",
            "STOP: TOTAL NO. of ITERATIONS REACHED LIMIT.\n",
            "\n",
            "Increase the number of iterations (max_iter) or scale the data as shown in:\n",
            "    https://scikit-learn.org/stable/modules/preprocessing.html\n",
            "Please also refer to the documentation for alternative solver options:\n",
            "    https://scikit-learn.org/stable/modules/linear_model.html#logistic-regression\n",
            "  n_iter_i = _check_optimize_result(\n",
            "/usr/local/lib/python3.10/dist-packages/sklearn/linear_model/_logistic.py:458: ConvergenceWarning: lbfgs failed to converge (status=1):\n",
            "STOP: TOTAL NO. of ITERATIONS REACHED LIMIT.\n",
            "\n",
            "Increase the number of iterations (max_iter) or scale the data as shown in:\n",
            "    https://scikit-learn.org/stable/modules/preprocessing.html\n",
            "Please also refer to the documentation for alternative solver options:\n",
            "    https://scikit-learn.org/stable/modules/linear_model.html#logistic-regression\n",
            "  n_iter_i = _check_optimize_result(\n",
            "/usr/local/lib/python3.10/dist-packages/sklearn/linear_model/_logistic.py:458: ConvergenceWarning: lbfgs failed to converge (status=1):\n",
            "STOP: TOTAL NO. of ITERATIONS REACHED LIMIT.\n",
            "\n",
            "Increase the number of iterations (max_iter) or scale the data as shown in:\n",
            "    https://scikit-learn.org/stable/modules/preprocessing.html\n",
            "Please also refer to the documentation for alternative solver options:\n",
            "    https://scikit-learn.org/stable/modules/linear_model.html#logistic-regression\n",
            "  n_iter_i = _check_optimize_result(\n",
            "/usr/local/lib/python3.10/dist-packages/sklearn/linear_model/_logistic.py:458: ConvergenceWarning: lbfgs failed to converge (status=1):\n",
            "STOP: TOTAL NO. of ITERATIONS REACHED LIMIT.\n",
            "\n",
            "Increase the number of iterations (max_iter) or scale the data as shown in:\n",
            "    https://scikit-learn.org/stable/modules/preprocessing.html\n",
            "Please also refer to the documentation for alternative solver options:\n",
            "    https://scikit-learn.org/stable/modules/linear_model.html#logistic-regression\n",
            "  n_iter_i = _check_optimize_result(\n"
          ]
        },
        {
          "output_type": "stream",
          "name": "stdout",
          "text": [
            "              precision    recall  f1-score   support\n",
            "\n",
            "           0       0.94      0.65      0.77    109268\n",
            "           1       0.31      0.78      0.45     22220\n",
            "\n",
            "    accuracy                           0.67    131488\n",
            "   macro avg       0.62      0.72      0.61    131488\n",
            "weighted avg       0.83      0.67      0.71    131488\n",
            "\n"
          ]
        }
      ]
    },
    {
      "cell_type": "markdown",
      "source": [
        "#DECISION TREE"
      ],
      "metadata": {
        "id": "o0pHT7qBMtrv"
      }
    },
    {
      "cell_type": "code",
      "source": [
        "from sklearn import tree\n",
        "\n",
        "parameters = {'splitter':['best', 'random'], 'max_depth':[5, 10, 15, 20, 25], 'criterion':['gini', 'entropy']}\n",
        "\n",
        "model = tree.DecisionTreeClassifier(class_weight=\"balanced\")\n",
        "DT = GridSearchCV(model, parameters, scoring='recall', verbose=2)\n",
        "DT.fit(X_train, y_train)"
      ],
      "metadata": {
        "colab": {
          "base_uri": "https://localhost:8080/",
          "height": 1000
        },
        "id": "ue2cBcqmJEcv",
        "outputId": "918176f2-4e61-4252-ba0e-e5fb72415867"
      },
      "execution_count": null,
      "outputs": [
        {
          "output_type": "stream",
          "name": "stdout",
          "text": [
            "Fitting 5 folds for each of 20 candidates, totalling 100 fits\n",
            "[CV] END .........criterion=gini, max_depth=5, splitter=best; total time=  10.0s\n",
            "[CV] END .........criterion=gini, max_depth=5, splitter=best; total time=   7.8s\n",
            "[CV] END .........criterion=gini, max_depth=5, splitter=best; total time=   7.4s\n",
            "[CV] END .........criterion=gini, max_depth=5, splitter=best; total time=   8.5s\n",
            "[CV] END .........criterion=gini, max_depth=5, splitter=best; total time=   7.2s\n",
            "[CV] END .......criterion=gini, max_depth=5, splitter=random; total time=   4.3s\n",
            "[CV] END .......criterion=gini, max_depth=5, splitter=random; total time=   4.2s\n",
            "[CV] END .......criterion=gini, max_depth=5, splitter=random; total time=   4.7s\n",
            "[CV] END .......criterion=gini, max_depth=5, splitter=random; total time=   4.6s\n",
            "[CV] END .......criterion=gini, max_depth=5, splitter=random; total time=   3.9s\n",
            "[CV] END ........criterion=gini, max_depth=10, splitter=best; total time=  11.3s\n",
            "[CV] END ........criterion=gini, max_depth=10, splitter=best; total time=  11.3s\n",
            "[CV] END ........criterion=gini, max_depth=10, splitter=best; total time=  11.4s\n",
            "[CV] END ........criterion=gini, max_depth=10, splitter=best; total time=  11.9s\n",
            "[CV] END ........criterion=gini, max_depth=10, splitter=best; total time=  11.7s\n",
            "[CV] END ......criterion=gini, max_depth=10, splitter=random; total time=   5.9s\n",
            "[CV] END ......criterion=gini, max_depth=10, splitter=random; total time=   6.8s\n",
            "[CV] END ......criterion=gini, max_depth=10, splitter=random; total time=   6.1s\n",
            "[CV] END ......criterion=gini, max_depth=10, splitter=random; total time=   6.3s\n",
            "[CV] END ......criterion=gini, max_depth=10, splitter=random; total time=   6.4s\n",
            "[CV] END ........criterion=gini, max_depth=15, splitter=best; total time=  15.4s\n",
            "[CV] END ........criterion=gini, max_depth=15, splitter=best; total time=  14.4s\n",
            "[CV] END ........criterion=gini, max_depth=15, splitter=best; total time=  15.2s\n",
            "[CV] END ........criterion=gini, max_depth=15, splitter=best; total time=  14.8s\n",
            "[CV] END ........criterion=gini, max_depth=15, splitter=best; total time=  14.6s\n",
            "[CV] END ......criterion=gini, max_depth=15, splitter=random; total time=   8.0s\n",
            "[CV] END ......criterion=gini, max_depth=15, splitter=random; total time=   7.2s\n",
            "[CV] END ......criterion=gini, max_depth=15, splitter=random; total time=   6.6s\n",
            "[CV] END ......criterion=gini, max_depth=15, splitter=random; total time=   8.2s\n",
            "[CV] END ......criterion=gini, max_depth=15, splitter=random; total time=   7.0s\n",
            "[CV] END ........criterion=gini, max_depth=20, splitter=best; total time=  18.2s\n",
            "[CV] END ........criterion=gini, max_depth=20, splitter=best; total time=  16.8s\n",
            "[CV] END ........criterion=gini, max_depth=20, splitter=best; total time=  16.4s\n",
            "[CV] END ........criterion=gini, max_depth=20, splitter=best; total time=  17.5s\n",
            "[CV] END ........criterion=gini, max_depth=20, splitter=best; total time=  16.7s\n",
            "[CV] END ......criterion=gini, max_depth=20, splitter=random; total time=   9.2s\n",
            "[CV] END ......criterion=gini, max_depth=20, splitter=random; total time=   7.7s\n",
            "[CV] END ......criterion=gini, max_depth=20, splitter=random; total time=   9.1s\n",
            "[CV] END ......criterion=gini, max_depth=20, splitter=random; total time=   9.2s\n",
            "[CV] END ......criterion=gini, max_depth=20, splitter=random; total time=   7.7s\n",
            "[CV] END ........criterion=gini, max_depth=25, splitter=best; total time=  19.4s\n",
            "[CV] END ........criterion=gini, max_depth=25, splitter=best; total time=  19.1s\n",
            "[CV] END ........criterion=gini, max_depth=25, splitter=best; total time=  19.1s\n",
            "[CV] END ........criterion=gini, max_depth=25, splitter=best; total time=  19.1s\n",
            "[CV] END ........criterion=gini, max_depth=25, splitter=best; total time=  18.9s\n",
            "[CV] END ......criterion=gini, max_depth=25, splitter=random; total time=   9.0s\n",
            "[CV] END ......criterion=gini, max_depth=25, splitter=random; total time=   8.5s\n",
            "[CV] END ......criterion=gini, max_depth=25, splitter=random; total time=   9.5s\n",
            "[CV] END ......criterion=gini, max_depth=25, splitter=random; total time=  11.2s\n",
            "[CV] END ......criterion=gini, max_depth=25, splitter=random; total time=   9.3s\n",
            "[CV] END ......criterion=entropy, max_depth=5, splitter=best; total time=   6.9s\n",
            "[CV] END ......criterion=entropy, max_depth=5, splitter=best; total time=   7.3s\n",
            "[CV] END ......criterion=entropy, max_depth=5, splitter=best; total time=   6.9s\n",
            "[CV] END ......criterion=entropy, max_depth=5, splitter=best; total time=   6.9s\n",
            "[CV] END ......criterion=entropy, max_depth=5, splitter=best; total time=   6.8s\n",
            "[CV] END ....criterion=entropy, max_depth=5, splitter=random; total time=   4.8s\n",
            "[CV] END ....criterion=entropy, max_depth=5, splitter=random; total time=   4.2s\n",
            "[CV] END ....criterion=entropy, max_depth=5, splitter=random; total time=   4.7s\n",
            "[CV] END ....criterion=entropy, max_depth=5, splitter=random; total time=   4.7s\n",
            "[CV] END ....criterion=entropy, max_depth=5, splitter=random; total time=   3.8s\n",
            "[CV] END .....criterion=entropy, max_depth=10, splitter=best; total time=  12.2s\n",
            "[CV] END .....criterion=entropy, max_depth=10, splitter=best; total time=  11.7s\n",
            "[CV] END .....criterion=entropy, max_depth=10, splitter=best; total time=  11.7s\n",
            "[CV] END .....criterion=entropy, max_depth=10, splitter=best; total time=  12.7s\n",
            "[CV] END .....criterion=entropy, max_depth=10, splitter=best; total time=  12.2s\n",
            "[CV] END ...criterion=entropy, max_depth=10, splitter=random; total time=   6.3s\n",
            "[CV] END ...criterion=entropy, max_depth=10, splitter=random; total time=   6.9s\n",
            "[CV] END ...criterion=entropy, max_depth=10, splitter=random; total time=   6.6s\n",
            "[CV] END ...criterion=entropy, max_depth=10, splitter=random; total time=   5.7s\n",
            "[CV] END ...criterion=entropy, max_depth=10, splitter=random; total time=   6.3s\n",
            "[CV] END .....criterion=entropy, max_depth=15, splitter=best; total time=  16.4s\n",
            "[CV] END .....criterion=entropy, max_depth=15, splitter=best; total time=  15.3s\n",
            "[CV] END .....criterion=entropy, max_depth=15, splitter=best; total time=  14.6s\n",
            "[CV] END .....criterion=entropy, max_depth=15, splitter=best; total time=  15.1s\n",
            "[CV] END .....criterion=entropy, max_depth=15, splitter=best; total time=  16.8s\n",
            "[CV] END ...criterion=entropy, max_depth=15, splitter=random; total time=   6.7s\n",
            "[CV] END ...criterion=entropy, max_depth=15, splitter=random; total time=   8.3s\n",
            "[CV] END ...criterion=entropy, max_depth=15, splitter=random; total time=  10.3s\n",
            "[CV] END ...criterion=entropy, max_depth=15, splitter=random; total time=   7.6s\n",
            "[CV] END ...criterion=entropy, max_depth=15, splitter=random; total time=   8.4s\n",
            "[CV] END .....criterion=entropy, max_depth=20, splitter=best; total time=  18.3s\n",
            "[CV] END .....criterion=entropy, max_depth=20, splitter=best; total time=  17.5s\n",
            "[CV] END .....criterion=entropy, max_depth=20, splitter=best; total time=  18.5s\n",
            "[CV] END .....criterion=entropy, max_depth=20, splitter=best; total time=  17.9s\n",
            "[CV] END .....criterion=entropy, max_depth=20, splitter=best; total time=  16.9s\n",
            "[CV] END ...criterion=entropy, max_depth=20, splitter=random; total time=   8.5s\n",
            "[CV] END ...criterion=entropy, max_depth=20, splitter=random; total time=   7.9s\n",
            "[CV] END ...criterion=entropy, max_depth=20, splitter=random; total time=   8.6s\n",
            "[CV] END ...criterion=entropy, max_depth=20, splitter=random; total time=   8.4s\n",
            "[CV] END ...criterion=entropy, max_depth=20, splitter=random; total time=   8.4s\n",
            "[CV] END .....criterion=entropy, max_depth=25, splitter=best; total time=  19.2s\n",
            "[CV] END .....criterion=entropy, max_depth=25, splitter=best; total time=  19.1s\n",
            "[CV] END .....criterion=entropy, max_depth=25, splitter=best; total time=  19.3s\n",
            "[CV] END .....criterion=entropy, max_depth=25, splitter=best; total time=  19.9s\n",
            "[CV] END .....criterion=entropy, max_depth=25, splitter=best; total time=  19.5s\n",
            "[CV] END ...criterion=entropy, max_depth=25, splitter=random; total time=  10.0s\n",
            "[CV] END ...criterion=entropy, max_depth=25, splitter=random; total time=   9.0s\n",
            "[CV] END ...criterion=entropy, max_depth=25, splitter=random; total time=   8.9s\n",
            "[CV] END ...criterion=entropy, max_depth=25, splitter=random; total time=   9.5s\n",
            "[CV] END ...criterion=entropy, max_depth=25, splitter=random; total time=   8.8s\n"
          ]
        },
        {
          "output_type": "execute_result",
          "data": {
            "text/plain": [
              "GridSearchCV(estimator=DecisionTreeClassifier(class_weight='balanced'),\n",
              "             param_grid={'criterion': ['gini', 'entropy'],\n",
              "                         'max_depth': [5, 10, 15, 20, 25],\n",
              "                         'splitter': ['best', 'random']},\n",
              "             scoring='recall', verbose=2)"
            ],
            "text/html": [
              "<style>#sk-container-id-1 {color: black;background-color: white;}#sk-container-id-1 pre{padding: 0;}#sk-container-id-1 div.sk-toggleable {background-color: white;}#sk-container-id-1 label.sk-toggleable__label {cursor: pointer;display: block;width: 100%;margin-bottom: 0;padding: 0.3em;box-sizing: border-box;text-align: center;}#sk-container-id-1 label.sk-toggleable__label-arrow:before {content: \"▸\";float: left;margin-right: 0.25em;color: #696969;}#sk-container-id-1 label.sk-toggleable__label-arrow:hover:before {color: black;}#sk-container-id-1 div.sk-estimator:hover label.sk-toggleable__label-arrow:before {color: black;}#sk-container-id-1 div.sk-toggleable__content {max-height: 0;max-width: 0;overflow: hidden;text-align: left;background-color: #f0f8ff;}#sk-container-id-1 div.sk-toggleable__content pre {margin: 0.2em;color: black;border-radius: 0.25em;background-color: #f0f8ff;}#sk-container-id-1 input.sk-toggleable__control:checked~div.sk-toggleable__content {max-height: 200px;max-width: 100%;overflow: auto;}#sk-container-id-1 input.sk-toggleable__control:checked~label.sk-toggleable__label-arrow:before {content: \"▾\";}#sk-container-id-1 div.sk-estimator input.sk-toggleable__control:checked~label.sk-toggleable__label {background-color: #d4ebff;}#sk-container-id-1 div.sk-label input.sk-toggleable__control:checked~label.sk-toggleable__label {background-color: #d4ebff;}#sk-container-id-1 input.sk-hidden--visually {border: 0;clip: rect(1px 1px 1px 1px);clip: rect(1px, 1px, 1px, 1px);height: 1px;margin: -1px;overflow: hidden;padding: 0;position: absolute;width: 1px;}#sk-container-id-1 div.sk-estimator {font-family: monospace;background-color: #f0f8ff;border: 1px dotted black;border-radius: 0.25em;box-sizing: border-box;margin-bottom: 0.5em;}#sk-container-id-1 div.sk-estimator:hover {background-color: #d4ebff;}#sk-container-id-1 div.sk-parallel-item::after {content: \"\";width: 100%;border-bottom: 1px solid gray;flex-grow: 1;}#sk-container-id-1 div.sk-label:hover label.sk-toggleable__label {background-color: #d4ebff;}#sk-container-id-1 div.sk-serial::before {content: \"\";position: absolute;border-left: 1px solid gray;box-sizing: border-box;top: 0;bottom: 0;left: 50%;z-index: 0;}#sk-container-id-1 div.sk-serial {display: flex;flex-direction: column;align-items: center;background-color: white;padding-right: 0.2em;padding-left: 0.2em;position: relative;}#sk-container-id-1 div.sk-item {position: relative;z-index: 1;}#sk-container-id-1 div.sk-parallel {display: flex;align-items: stretch;justify-content: center;background-color: white;position: relative;}#sk-container-id-1 div.sk-item::before, #sk-container-id-1 div.sk-parallel-item::before {content: \"\";position: absolute;border-left: 1px solid gray;box-sizing: border-box;top: 0;bottom: 0;left: 50%;z-index: -1;}#sk-container-id-1 div.sk-parallel-item {display: flex;flex-direction: column;z-index: 1;position: relative;background-color: white;}#sk-container-id-1 div.sk-parallel-item:first-child::after {align-self: flex-end;width: 50%;}#sk-container-id-1 div.sk-parallel-item:last-child::after {align-self: flex-start;width: 50%;}#sk-container-id-1 div.sk-parallel-item:only-child::after {width: 0;}#sk-container-id-1 div.sk-dashed-wrapped {border: 1px dashed gray;margin: 0 0.4em 0.5em 0.4em;box-sizing: border-box;padding-bottom: 0.4em;background-color: white;}#sk-container-id-1 div.sk-label label {font-family: monospace;font-weight: bold;display: inline-block;line-height: 1.2em;}#sk-container-id-1 div.sk-label-container {text-align: center;}#sk-container-id-1 div.sk-container {/* jupyter's `normalize.less` sets `[hidden] { display: none; }` but bootstrap.min.css set `[hidden] { display: none !important; }` so we also need the `!important` here to be able to override the default hidden behavior on the sphinx rendered scikit-learn.org. See: https://github.com/scikit-learn/scikit-learn/issues/21755 */display: inline-block !important;position: relative;}#sk-container-id-1 div.sk-text-repr-fallback {display: none;}</style><div id=\"sk-container-id-1\" class=\"sk-top-container\"><div class=\"sk-text-repr-fallback\"><pre>GridSearchCV(estimator=DecisionTreeClassifier(class_weight=&#x27;balanced&#x27;),\n",
              "             param_grid={&#x27;criterion&#x27;: [&#x27;gini&#x27;, &#x27;entropy&#x27;],\n",
              "                         &#x27;max_depth&#x27;: [5, 10, 15, 20, 25],\n",
              "                         &#x27;splitter&#x27;: [&#x27;best&#x27;, &#x27;random&#x27;]},\n",
              "             scoring=&#x27;recall&#x27;, verbose=2)</pre><b>In a Jupyter environment, please rerun this cell to show the HTML representation or trust the notebook. <br />On GitHub, the HTML representation is unable to render, please try loading this page with nbviewer.org.</b></div><div class=\"sk-container\" hidden><div class=\"sk-item sk-dashed-wrapped\"><div class=\"sk-label-container\"><div class=\"sk-label sk-toggleable\"><input class=\"sk-toggleable__control sk-hidden--visually\" id=\"sk-estimator-id-1\" type=\"checkbox\" ><label for=\"sk-estimator-id-1\" class=\"sk-toggleable__label sk-toggleable__label-arrow\">GridSearchCV</label><div class=\"sk-toggleable__content\"><pre>GridSearchCV(estimator=DecisionTreeClassifier(class_weight=&#x27;balanced&#x27;),\n",
              "             param_grid={&#x27;criterion&#x27;: [&#x27;gini&#x27;, &#x27;entropy&#x27;],\n",
              "                         &#x27;max_depth&#x27;: [5, 10, 15, 20, 25],\n",
              "                         &#x27;splitter&#x27;: [&#x27;best&#x27;, &#x27;random&#x27;]},\n",
              "             scoring=&#x27;recall&#x27;, verbose=2)</pre></div></div></div><div class=\"sk-parallel\"><div class=\"sk-parallel-item\"><div class=\"sk-item\"><div class=\"sk-label-container\"><div class=\"sk-label sk-toggleable\"><input class=\"sk-toggleable__control sk-hidden--visually\" id=\"sk-estimator-id-2\" type=\"checkbox\" ><label for=\"sk-estimator-id-2\" class=\"sk-toggleable__label sk-toggleable__label-arrow\">estimator: DecisionTreeClassifier</label><div class=\"sk-toggleable__content\"><pre>DecisionTreeClassifier(class_weight=&#x27;balanced&#x27;)</pre></div></div></div><div class=\"sk-serial\"><div class=\"sk-item\"><div class=\"sk-estimator sk-toggleable\"><input class=\"sk-toggleable__control sk-hidden--visually\" id=\"sk-estimator-id-3\" type=\"checkbox\" ><label for=\"sk-estimator-id-3\" class=\"sk-toggleable__label sk-toggleable__label-arrow\">DecisionTreeClassifier</label><div class=\"sk-toggleable__content\"><pre>DecisionTreeClassifier(class_weight=&#x27;balanced&#x27;)</pre></div></div></div></div></div></div></div></div></div></div>"
            ]
          },
          "metadata": {},
          "execution_count": 42
        }
      ]
    },
    {
      "cell_type": "code",
      "source": [
        "y_true, y_pred = y_test, DT.predict(X_test)\n",
        "print(classification_report(y_true, y_pred))"
      ],
      "metadata": {
        "colab": {
          "base_uri": "https://localhost:8080/"
        },
        "id": "B9cX1cfOJ3Xh",
        "outputId": "45f62ead-6ef7-4d41-b9ee-d46529ee45ac"
      },
      "execution_count": null,
      "outputs": [
        {
          "output_type": "stream",
          "name": "stdout",
          "text": [
            "              precision    recall  f1-score   support\n",
            "\n",
            "           0       0.95      0.58      0.72    109268\n",
            "           1       0.29      0.83      0.43     22220\n",
            "\n",
            "    accuracy                           0.63    131488\n",
            "   macro avg       0.62      0.71      0.58    131488\n",
            "weighted avg       0.83      0.63      0.67    131488\n",
            "\n"
          ]
        }
      ]
    },
    {
      "cell_type": "markdown",
      "source": [
        "#RANDOM FOREST"
      ],
      "metadata": {
        "id": "nvQNiwQ6M0uw"
      }
    },
    {
      "cell_type": "code",
      "source": [
        "from sklearn.model_selection import GridSearchCV, RandomizedSearchCV\n",
        "\n",
        "model = RandomForestClassifier()\n",
        "params = {'max_depth':[10, 15], 'n_estimators':[100, 150]}\n",
        "\n",
        "RF = GridSearchCV(model, params, cv=5,verbose=2)\n",
        "RF.fit(X_train,y_train.ravel())\n",
        "RF_best = RF.best_estimator_\n",
        "y_pred=RF_best.predict(X_test)"
      ],
      "metadata": {
        "colab": {
          "base_uri": "https://localhost:8080/"
        },
        "id": "zAoalQldMz1B",
        "outputId": "740a847b-11cb-4f57-c63e-47953f5cc1ee"
      },
      "execution_count": null,
      "outputs": [
        {
          "output_type": "stream",
          "name": "stdout",
          "text": [
            "Fitting 5 folds for each of 4 candidates, totalling 20 fits\n",
            "[CV] END .....................max_depth=10, n_estimators=100; total time=  49.6s\n",
            "[CV] END .....................max_depth=10, n_estimators=100; total time=  52.7s\n",
            "[CV] END .....................max_depth=10, n_estimators=100; total time=  51.4s\n",
            "[CV] END .....................max_depth=10, n_estimators=100; total time=  50.4s\n",
            "[CV] END .....................max_depth=10, n_estimators=100; total time=  58.9s\n",
            "[CV] END .....................max_depth=10, n_estimators=150; total time= 1.3min\n",
            "[CV] END .....................max_depth=10, n_estimators=150; total time= 1.2min\n",
            "[CV] END .....................max_depth=10, n_estimators=150; total time= 1.2min\n",
            "[CV] END .....................max_depth=10, n_estimators=150; total time= 1.3min\n",
            "[CV] END .....................max_depth=10, n_estimators=150; total time= 1.4min\n",
            "[CV] END .....................max_depth=15, n_estimators=100; total time= 1.1min\n",
            "[CV] END .....................max_depth=15, n_estimators=100; total time= 1.4min\n",
            "[CV] END .....................max_depth=15, n_estimators=100; total time= 1.1min\n",
            "[CV] END .....................max_depth=15, n_estimators=100; total time= 1.1min\n",
            "[CV] END .....................max_depth=15, n_estimators=100; total time= 1.1min\n",
            "[CV] END .....................max_depth=15, n_estimators=150; total time= 1.7min\n",
            "[CV] END .....................max_depth=15, n_estimators=150; total time= 2.1min\n",
            "[CV] END .....................max_depth=15, n_estimators=150; total time= 1.7min\n",
            "[CV] END .....................max_depth=15, n_estimators=150; total time= 1.7min\n",
            "[CV] END .....................max_depth=15, n_estimators=150; total time= 1.7min\n"
          ]
        }
      ]
    },
    {
      "cell_type": "code",
      "source": [
        "print(classification_report(y_test, y_pred))"
      ],
      "metadata": {
        "colab": {
          "base_uri": "https://localhost:8080/"
        },
        "id": "h0FHbO5nOLv3",
        "outputId": "803d22b8-b366-4fd9-d5b8-3f9e9b913849"
      },
      "execution_count": null,
      "outputs": [
        {
          "output_type": "stream",
          "name": "stdout",
          "text": [
            "              precision    recall  f1-score   support\n",
            "\n",
            "           0       0.83      1.00      0.91    109268\n",
            "           1       0.60      0.01      0.02     22220\n",
            "\n",
            "    accuracy                           0.83    131488\n",
            "   macro avg       0.71      0.50      0.46    131488\n",
            "weighted avg       0.79      0.83      0.76    131488\n",
            "\n"
          ]
        }
      ]
    }
  ]
}